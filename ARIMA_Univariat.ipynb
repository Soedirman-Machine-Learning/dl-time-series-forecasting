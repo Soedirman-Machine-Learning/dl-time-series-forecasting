{
  "nbformat": 4,
  "nbformat_minor": 0,
  "metadata": {
    "colab": {
      "name": "ARIMA_Univariat.ipynb",
      "provenance": [],
      "collapsed_sections": [],
      "include_colab_link": true
    },
    "kernelspec": {
      "display_name": "Python 3",
      "name": "python3"
    },
    "language_info": {
      "name": "python"
    }
  },
  "cells": [
    {
      "cell_type": "markdown",
      "metadata": {
        "id": "view-in-github",
        "colab_type": "text"
      },
      "source": [
        "<a href=\"https://colab.research.google.com/github/Soedirman-Machine-Learning/dl-time-series-forecasting/blob/main/ARIMA_Univariat.ipynb\" target=\"_parent\"><img src=\"https://colab.research.google.com/assets/colab-badge.svg\" alt=\"Open In Colab\"/></a>"
      ]
    },
    {
      "cell_type": "code",
      "metadata": {
        "colab": {
          "base_uri": "https://localhost:8080/"
        },
        "id": "2CKzr4rqkvCS",
        "outputId": "843ce70f-0af0-412c-c1cc-bc69a81a4d9a"
      },
      "source": [
        "!pip install \"statsmodels==0.11.1\"\n",
        "!pip install \"scikit-learn==0.24\""
      ],
      "execution_count": 1,
      "outputs": [
        {
          "output_type": "stream",
          "name": "stdout",
          "text": [
            "Collecting statsmodels==0.11.1\n",
            "  Downloading statsmodels-0.11.1-cp37-cp37m-manylinux1_x86_64.whl (8.7 MB)\n",
            "\u001b[K     |████████████████████████████████| 8.7 MB 5.3 MB/s \n",
            "\u001b[?25hRequirement already satisfied: patsy>=0.5 in /usr/local/lib/python3.7/dist-packages (from statsmodels==0.11.1) (0.5.2)\n",
            "Requirement already satisfied: pandas>=0.21 in /usr/local/lib/python3.7/dist-packages (from statsmodels==0.11.1) (1.1.5)\n",
            "Requirement already satisfied: scipy>=1.0 in /usr/local/lib/python3.7/dist-packages (from statsmodels==0.11.1) (1.4.1)\n",
            "Requirement already satisfied: numpy>=1.14 in /usr/local/lib/python3.7/dist-packages (from statsmodels==0.11.1) (1.19.5)\n",
            "Requirement already satisfied: python-dateutil>=2.7.3 in /usr/local/lib/python3.7/dist-packages (from pandas>=0.21->statsmodels==0.11.1) (2.8.2)\n",
            "Requirement already satisfied: pytz>=2017.2 in /usr/local/lib/python3.7/dist-packages (from pandas>=0.21->statsmodels==0.11.1) (2018.9)\n",
            "Requirement already satisfied: six in /usr/local/lib/python3.7/dist-packages (from patsy>=0.5->statsmodels==0.11.1) (1.15.0)\n",
            "Installing collected packages: statsmodels\n",
            "  Attempting uninstall: statsmodels\n",
            "    Found existing installation: statsmodels 0.10.2\n",
            "    Uninstalling statsmodels-0.10.2:\n",
            "      Successfully uninstalled statsmodels-0.10.2\n",
            "Successfully installed statsmodels-0.11.1\n",
            "Collecting scikit-learn==0.24\n",
            "  Downloading scikit_learn-0.24.0-cp37-cp37m-manylinux2010_x86_64.whl (22.3 MB)\n",
            "\u001b[K     |████████████████████████████████| 22.3 MB 62.9 MB/s \n",
            "\u001b[?25hRequirement already satisfied: scipy>=0.19.1 in /usr/local/lib/python3.7/dist-packages (from scikit-learn==0.24) (1.4.1)\n",
            "Collecting threadpoolctl>=2.0.0\n",
            "  Downloading threadpoolctl-3.0.0-py3-none-any.whl (14 kB)\n",
            "Requirement already satisfied: joblib>=0.11 in /usr/local/lib/python3.7/dist-packages (from scikit-learn==0.24) (1.1.0)\n",
            "Requirement already satisfied: numpy>=1.13.3 in /usr/local/lib/python3.7/dist-packages (from scikit-learn==0.24) (1.19.5)\n",
            "Installing collected packages: threadpoolctl, scikit-learn\n",
            "  Attempting uninstall: scikit-learn\n",
            "    Found existing installation: scikit-learn 0.22.2.post1\n",
            "    Uninstalling scikit-learn-0.22.2.post1:\n",
            "      Successfully uninstalled scikit-learn-0.22.2.post1\n",
            "Successfully installed scikit-learn-0.24.0 threadpoolctl-3.0.0\n"
          ]
        }
      ]
    },
    {
      "cell_type": "code",
      "metadata": {
        "colab": {
          "base_uri": "https://localhost:8080/"
        },
        "id": "FZN1ed_XaXOU",
        "outputId": "be2a66b8-c929-4fcf-c451-95adcc0fc6f3"
      },
      "source": [
        "! git clone https://github.com/Soedirman-Machine-Learning/dl-time-series-forecasting"
      ],
      "execution_count": null,
      "outputs": [
        {
          "output_type": "stream",
          "name": "stdout",
          "text": [
            "Cloning into 'dl-time-series-forecasting'...\n",
            "remote: Enumerating objects: 65, done.\u001b[K\n",
            "remote: Counting objects: 100% (65/65), done.\u001b[K\n",
            "remote: Compressing objects: 100% (63/63), done.\u001b[K\n",
            "remote: Total 65 (delta 26), reused 0 (delta 0), pack-reused 0\u001b[K\n",
            "Unpacking objects: 100% (65/65), done.\n"
          ]
        }
      ]
    },
    {
      "cell_type": "code",
      "metadata": {
        "id": "4S8QxUJE--pu"
      },
      "source": [
        "import numpy as np\n",
        "import pandas as pd\n",
        "import numpy\n",
        "from pandas import read_csv\n",
        "from matplotlib import pyplot\n",
        "from statsmodels.tsa.arima.model import ARIMA\n",
        "from sklearn.metrics import mean_squared_error\n",
        "from sklearn.metrics import mean_absolute_error\n",
        "from sklearn.metrics import mean_absolute_percentage_error\n",
        "import matplotlib.pyplot as plt\n",
        "from math import sqrt\n"
      ],
      "execution_count": 2,
      "outputs": []
    },
    {
      "cell_type": "code",
      "metadata": {
        "colab": {
          "base_uri": "https://localhost:8080/",
          "height": 414
        },
        "id": "NC-cuGOloEDX",
        "outputId": "61161735-398d-4199-e711-c98cae3564fa"
      },
      "source": [
        "def predict(coef, history):\n",
        "\tyhat = 0.0\n",
        "\tfor i in range(1, len(coef)+1):\n",
        "\t\tyhat += coef[i-1] * history[-i]\n",
        "\treturn yhat\n",
        "\n",
        "def difference(dataset):\n",
        "\tdiff = list()\n",
        "\tfor i in range(1, len(dataset)):\n",
        "\t\tvalue = dataset[i] - dataset[i - 1]\n",
        "\t\tdiff.append(value)\n",
        "\treturn numpy.array(diff)\n",
        "\n",
        "series = read_csv('https://raw.githubusercontent.com/Soedirman-Machine-Learning/dl-time-series-forecasting/main/dataset_univariat.csv', header=0)\n",
        "series"
      ],
      "execution_count": 3,
      "outputs": [
        {
          "output_type": "execute_result",
          "data": {
            "text/html": [
              "<div>\n",
              "<style scoped>\n",
              "    .dataframe tbody tr th:only-of-type {\n",
              "        vertical-align: middle;\n",
              "    }\n",
              "\n",
              "    .dataframe tbody tr th {\n",
              "        vertical-align: top;\n",
              "    }\n",
              "\n",
              "    .dataframe thead th {\n",
              "        text-align: right;\n",
              "    }\n",
              "</style>\n",
              "<table border=\"1\" class=\"dataframe\">\n",
              "  <thead>\n",
              "    <tr style=\"text-align: right;\">\n",
              "      <th></th>\n",
              "      <th>y</th>\n",
              "    </tr>\n",
              "  </thead>\n",
              "  <tbody>\n",
              "    <tr>\n",
              "      <th>0</th>\n",
              "      <td>0.180295</td>\n",
              "    </tr>\n",
              "    <tr>\n",
              "      <th>1</th>\n",
              "      <td>0.177124</td>\n",
              "    </tr>\n",
              "    <tr>\n",
              "      <th>2</th>\n",
              "      <td>0.173618</td>\n",
              "    </tr>\n",
              "    <tr>\n",
              "      <th>3</th>\n",
              "      <td>0.171640</td>\n",
              "    </tr>\n",
              "    <tr>\n",
              "      <th>4</th>\n",
              "      <td>0.166972</td>\n",
              "    </tr>\n",
              "    <tr>\n",
              "      <th>...</th>\n",
              "      <td>...</td>\n",
              "    </tr>\n",
              "    <tr>\n",
              "      <th>2389</th>\n",
              "      <td>0.188976</td>\n",
              "    </tr>\n",
              "    <tr>\n",
              "      <th>2390</th>\n",
              "      <td>0.178992</td>\n",
              "    </tr>\n",
              "    <tr>\n",
              "      <th>2391</th>\n",
              "      <td>0.169742</td>\n",
              "    </tr>\n",
              "    <tr>\n",
              "      <th>2392</th>\n",
              "      <td>0.159023</td>\n",
              "    </tr>\n",
              "    <tr>\n",
              "      <th>2393</th>\n",
              "      <td>0.149922</td>\n",
              "    </tr>\n",
              "  </tbody>\n",
              "</table>\n",
              "<p>2394 rows × 1 columns</p>\n",
              "</div>"
            ],
            "text/plain": [
              "             y\n",
              "0     0.180295\n",
              "1     0.177124\n",
              "2     0.173618\n",
              "3     0.171640\n",
              "4     0.166972\n",
              "...        ...\n",
              "2389  0.188976\n",
              "2390  0.178992\n",
              "2391  0.169742\n",
              "2392  0.159023\n",
              "2393  0.149922\n",
              "\n",
              "[2394 rows x 1 columns]"
            ]
          },
          "metadata": {},
          "execution_count": 3
        }
      ]
    },
    {
      "cell_type": "code",
      "metadata": {
        "id": "GSMQ1MMK_TpP",
        "colab": {
          "base_uri": "https://localhost:8080/"
        },
        "outputId": "1a6c1e8b-9105-4f2b-9a2f-91b7a922c36a"
      },
      "source": [
        "X = series.values\n",
        "size = len(X) - 479\n",
        "train, test = X[0:size], X[size:]\n",
        "history = [x for x in train]\n",
        "predictions = list()\n",
        "for t in range(len(test)):\n",
        "\tmodel = ARIMA(history, order=(1,1,1))\n",
        "\tmodel_fit = model.fit()\n",
        "\tar_coef, ma_coef = model_fit.arparams, model_fit.maparams\n",
        "\tresid = model_fit.resid\n",
        "\tdiff = difference(history)\n",
        "\tyhat = history[-1] + predict(ar_coef, diff) + predict(ma_coef, resid)\n",
        "\tpredictions.append(yhat)\n",
        "\tobs = test[t]\n",
        "\thistory.append(obs)\n",
        "\tprint('>predicted=%.3f, expected=%.3f' % (yhat, obs))"
      ],
      "execution_count": 4,
      "outputs": [
        {
          "output_type": "stream",
          "name": "stdout",
          "text": [
            ">predicted=0.270, expected=0.270\n"
          ]
        },
        {
          "output_type": "stream",
          "name": "stderr",
          "text": [
            "/usr/local/lib/python3.7/dist-packages/statsmodels/base/model.py:568: ConvergenceWarning: Maximum Likelihood optimization failed to converge. Check mle_retvals\n",
            "  \"Check mle_retvals\", ConvergenceWarning)\n"
          ]
        },
        {
          "output_type": "stream",
          "name": "stdout",
          "text": [
            ">predicted=0.260, expected=0.258\n",
            ">predicted=0.246, expected=0.247\n",
            ">predicted=0.236, expected=0.233\n"
          ]
        },
        {
          "output_type": "stream",
          "name": "stderr",
          "text": [
            "/usr/local/lib/python3.7/dist-packages/statsmodels/base/model.py:568: ConvergenceWarning: Maximum Likelihood optimization failed to converge. Check mle_retvals\n",
            "  \"Check mle_retvals\", ConvergenceWarning)\n"
          ]
        },
        {
          "output_type": "stream",
          "name": "stdout",
          "text": [
            ">predicted=0.221, expected=0.229\n",
            ">predicted=0.224, expected=0.213\n"
          ]
        },
        {
          "output_type": "stream",
          "name": "stderr",
          "text": [
            "/usr/local/lib/python3.7/dist-packages/statsmodels/base/model.py:568: ConvergenceWarning: Maximum Likelihood optimization failed to converge. Check mle_retvals\n",
            "  \"Check mle_retvals\", ConvergenceWarning)\n"
          ]
        },
        {
          "output_type": "stream",
          "name": "stdout",
          "text": [
            ">predicted=0.200, expected=0.200\n",
            ">predicted=0.188, expected=0.192\n",
            ">predicted=0.183, expected=0.180\n",
            ">predicted=0.170, expected=0.172\n",
            ">predicted=0.165, expected=0.167\n",
            ">predicted=0.161, expected=0.166\n",
            ">predicted=0.164, expected=0.168\n",
            ">predicted=0.170, expected=0.178\n",
            ">predicted=0.187, expected=0.198\n",
            ">predicted=0.216, expected=0.220\n",
            ">predicted=0.239, expected=0.243\n",
            ">predicted=0.264, expected=0.263\n",
            ">predicted=0.282, expected=0.276\n"
          ]
        },
        {
          "output_type": "stream",
          "name": "stderr",
          "text": [
            "/usr/local/lib/python3.7/dist-packages/statsmodels/base/model.py:568: ConvergenceWarning: Maximum Likelihood optimization failed to converge. Check mle_retvals\n",
            "  \"Check mle_retvals\", ConvergenceWarning)\n"
          ]
        },
        {
          "output_type": "stream",
          "name": "stdout",
          "text": [
            ">predicted=0.288, expected=0.291\n",
            ">predicted=0.305, expected=0.300\n",
            ">predicted=0.309, expected=0.299\n",
            ">predicted=0.299, expected=0.304\n",
            ">predicted=0.307, expected=0.302\n",
            ">predicted=0.302, expected=0.299\n",
            ">predicted=0.297, expected=0.291\n",
            ">predicted=0.285, expected=0.288\n",
            ">predicted=0.284, expected=0.281\n"
          ]
        },
        {
          "output_type": "stream",
          "name": "stderr",
          "text": [
            "/usr/local/lib/python3.7/dist-packages/statsmodels/base/model.py:568: ConvergenceWarning: Maximum Likelihood optimization failed to converge. Check mle_retvals\n",
            "  \"Check mle_retvals\", ConvergenceWarning)\n"
          ]
        },
        {
          "output_type": "stream",
          "name": "stdout",
          "text": [
            ">predicted=0.275, expected=0.272\n",
            ">predicted=0.264, expected=0.270\n",
            ">predicted=0.268, expected=0.264\n",
            ">predicted=0.259, expected=0.261\n"
          ]
        },
        {
          "output_type": "stream",
          "name": "stderr",
          "text": [
            "/usr/local/lib/python3.7/dist-packages/statsmodels/base/model.py:568: ConvergenceWarning: Maximum Likelihood optimization failed to converge. Check mle_retvals\n",
            "  \"Check mle_retvals\", ConvergenceWarning)\n"
          ]
        },
        {
          "output_type": "stream",
          "name": "stdout",
          "text": [
            ">predicted=0.258, expected=0.261\n",
            ">predicted=0.261, expected=0.259\n",
            ">predicted=0.257, expected=0.260\n",
            ">predicted=0.261, expected=0.261\n",
            ">predicted=0.262, expected=0.261\n",
            ">predicted=0.261, expected=0.261\n",
            ">predicted=0.261, expected=0.260\n",
            ">predicted=0.259, expected=0.259\n",
            ">predicted=0.258, expected=0.251\n"
          ]
        },
        {
          "output_type": "stream",
          "name": "stderr",
          "text": [
            "/usr/local/lib/python3.7/dist-packages/statsmodels/base/model.py:568: ConvergenceWarning: Maximum Likelihood optimization failed to converge. Check mle_retvals\n",
            "  \"Check mle_retvals\", ConvergenceWarning)\n"
          ]
        },
        {
          "output_type": "stream",
          "name": "stdout",
          "text": [
            ">predicted=0.244, expected=0.248\n",
            ">predicted=0.244, expected=0.243\n"
          ]
        },
        {
          "output_type": "stream",
          "name": "stderr",
          "text": [
            "/usr/local/lib/python3.7/dist-packages/statsmodels/base/model.py:568: ConvergenceWarning: Maximum Likelihood optimization failed to converge. Check mle_retvals\n",
            "  \"Check mle_retvals\", ConvergenceWarning)\n"
          ]
        },
        {
          "output_type": "stream",
          "name": "stdout",
          "text": [
            ">predicted=0.239, expected=0.234\n",
            ">predicted=0.227, expected=0.225\n",
            ">predicted=0.217, expected=0.216\n",
            ">predicted=0.208, expected=0.211\n",
            ">predicted=0.205, expected=0.204\n",
            ">predicted=0.198, expected=0.201\n",
            ">predicted=0.197, expected=0.197\n",
            ">predicted=0.194, expected=0.200\n",
            ">predicted=0.201, expected=0.203\n"
          ]
        },
        {
          "output_type": "stream",
          "name": "stderr",
          "text": [
            "/usr/local/lib/python3.7/dist-packages/statsmodels/base/model.py:568: ConvergenceWarning: Maximum Likelihood optimization failed to converge. Check mle_retvals\n",
            "  \"Check mle_retvals\", ConvergenceWarning)\n"
          ]
        },
        {
          "output_type": "stream",
          "name": "stdout",
          "text": [
            ">predicted=0.206, expected=0.213\n",
            ">predicted=0.222, expected=0.234\n",
            ">predicted=0.253, expected=0.260\n",
            ">predicted=0.283, expected=0.295\n"
          ]
        },
        {
          "output_type": "stream",
          "name": "stderr",
          "text": [
            "/usr/local/lib/python3.7/dist-packages/statsmodels/base/model.py:568: ConvergenceWarning: Maximum Likelihood optimization failed to converge. Check mle_retvals\n",
            "  \"Check mle_retvals\", ConvergenceWarning)\n"
          ]
        },
        {
          "output_type": "stream",
          "name": "stdout",
          "text": [
            ">predicted=0.326, expected=0.333\n"
          ]
        },
        {
          "output_type": "stream",
          "name": "stderr",
          "text": [
            "/usr/local/lib/python3.7/dist-packages/statsmodels/base/model.py:568: ConvergenceWarning: Maximum Likelihood optimization failed to converge. Check mle_retvals\n",
            "  \"Check mle_retvals\", ConvergenceWarning)\n"
          ]
        },
        {
          "output_type": "stream",
          "name": "stdout",
          "text": [
            ">predicted=0.368, expected=0.380\n",
            ">predicted=0.422, expected=0.429\n",
            ">predicted=0.474, expected=0.486\n",
            ">predicted=0.538, expected=0.544\n"
          ]
        },
        {
          "output_type": "stream",
          "name": "stderr",
          "text": [
            "/usr/local/lib/python3.7/dist-packages/statsmodels/base/model.py:568: ConvergenceWarning: Maximum Likelihood optimization failed to converge. Check mle_retvals\n",
            "  \"Check mle_retvals\", ConvergenceWarning)\n"
          ]
        },
        {
          "output_type": "stream",
          "name": "stdout",
          "text": [
            ">predicted=0.598, expected=0.596\n",
            ">predicted=0.646, expected=0.648\n"
          ]
        },
        {
          "output_type": "stream",
          "name": "stderr",
          "text": [
            "/usr/local/lib/python3.7/dist-packages/statsmodels/base/model.py:568: ConvergenceWarning: Maximum Likelihood optimization failed to converge. Check mle_retvals\n",
            "  \"Check mle_retvals\", ConvergenceWarning)\n"
          ]
        },
        {
          "output_type": "stream",
          "name": "stdout",
          "text": [
            ">predicted=0.696, expected=0.700\n",
            ">predicted=0.749, expected=0.745\n",
            ">predicted=0.787, expected=0.786\n",
            ">predicted=0.825, expected=0.816\n",
            ">predicted=0.846, expected=0.853\n",
            ">predicted=0.887, expected=0.874\n",
            ">predicted=0.896, expected=0.894\n",
            ">predicted=0.913, expected=0.899\n"
          ]
        },
        {
          "output_type": "stream",
          "name": "stderr",
          "text": [
            "/usr/local/lib/python3.7/dist-packages/statsmodels/base/model.py:568: ConvergenceWarning: Maximum Likelihood optimization failed to converge. Check mle_retvals\n",
            "  \"Check mle_retvals\", ConvergenceWarning)\n"
          ]
        },
        {
          "output_type": "stream",
          "name": "stdout",
          "text": [
            ">predicted=0.904, expected=0.904\n",
            ">predicted=0.910, expected=0.899\n",
            ">predicted=0.894, expected=0.896\n",
            ">predicted=0.893, expected=0.881\n",
            ">predicted=0.868, expected=0.871\n",
            ">predicted=0.861, expected=0.850\n",
            ">predicted=0.831, expected=0.825\n",
            ">predicted=0.803, expected=0.796\n",
            ">predicted=0.769, expected=0.759\n",
            ">predicted=0.725, expected=0.725\n",
            ">predicted=0.692, expected=0.689\n"
          ]
        },
        {
          "output_type": "stream",
          "name": "stderr",
          "text": [
            "/usr/local/lib/python3.7/dist-packages/statsmodels/base/model.py:568: ConvergenceWarning: Maximum Likelihood optimization failed to converge. Check mle_retvals\n",
            "  \"Check mle_retvals\", ConvergenceWarning)\n"
          ]
        },
        {
          "output_type": "stream",
          "name": "stdout",
          "text": [
            ">predicted=0.656, expected=0.652\n"
          ]
        },
        {
          "output_type": "stream",
          "name": "stderr",
          "text": [
            "/usr/local/lib/python3.7/dist-packages/statsmodels/base/model.py:568: ConvergenceWarning: Maximum Likelihood optimization failed to converge. Check mle_retvals\n",
            "  \"Check mle_retvals\", ConvergenceWarning)\n"
          ]
        },
        {
          "output_type": "stream",
          "name": "stdout",
          "text": [
            ">predicted=0.617, expected=0.615\n",
            ">predicted=0.581, expected=0.580\n",
            ">predicted=0.546, expected=0.544\n",
            ">predicted=0.510, expected=0.512\n",
            ">predicted=0.483, expected=0.482\n",
            ">predicted=0.454, expected=0.454\n",
            ">predicted=0.428, expected=0.425\n",
            ">predicted=0.399, expected=0.403\n"
          ]
        },
        {
          "output_type": "stream",
          "name": "stderr",
          "text": [
            "/usr/local/lib/python3.7/dist-packages/statsmodels/base/model.py:568: ConvergenceWarning: Maximum Likelihood optimization failed to converge. Check mle_retvals\n",
            "  \"Check mle_retvals\", ConvergenceWarning)\n"
          ]
        },
        {
          "output_type": "stream",
          "name": "stdout",
          "text": [
            ">predicted=0.381, expected=0.381\n"
          ]
        },
        {
          "output_type": "stream",
          "name": "stderr",
          "text": [
            "/usr/local/lib/python3.7/dist-packages/statsmodels/base/model.py:568: ConvergenceWarning: Maximum Likelihood optimization failed to converge. Check mle_retvals\n",
            "  \"Check mle_retvals\", ConvergenceWarning)\n"
          ]
        },
        {
          "output_type": "stream",
          "name": "stdout",
          "text": [
            ">predicted=0.360, expected=0.352\n",
            ">predicted=0.325, expected=0.337\n",
            ">predicted=0.322, expected=0.310\n",
            ">predicted=0.286, expected=0.292\n",
            ">predicted=0.274, expected=0.272\n",
            ">predicted=0.253, expected=0.253\n",
            ">predicted=0.235, expected=0.235\n",
            ">predicted=0.219, expected=0.221\n",
            ">predicted=0.207, expected=0.207\n"
          ]
        },
        {
          "output_type": "stream",
          "name": "stderr",
          "text": [
            "/usr/local/lib/python3.7/dist-packages/statsmodels/base/model.py:568: ConvergenceWarning: Maximum Likelihood optimization failed to converge. Check mle_retvals\n",
            "  \"Check mle_retvals\", ConvergenceWarning)\n"
          ]
        },
        {
          "output_type": "stream",
          "name": "stdout",
          "text": [
            ">predicted=0.195, expected=0.198\n",
            ">predicted=0.190, expected=0.193\n",
            ">predicted=0.187, expected=0.189\n",
            ">predicted=0.186, expected=0.191\n",
            ">predicted=0.191, expected=0.193\n",
            ">predicted=0.195, expected=0.204\n",
            ">predicted=0.214, expected=0.223\n"
          ]
        },
        {
          "output_type": "stream",
          "name": "stderr",
          "text": [
            "/usr/local/lib/python3.7/dist-packages/statsmodels/base/model.py:568: ConvergenceWarning: Maximum Likelihood optimization failed to converge. Check mle_retvals\n",
            "  \"Check mle_retvals\", ConvergenceWarning)\n"
          ]
        },
        {
          "output_type": "stream",
          "name": "stdout",
          "text": [
            ">predicted=0.240, expected=0.235\n",
            ">predicted=0.248, expected=0.257\n",
            ">predicted=0.276, expected=0.278\n",
            ">predicted=0.298, expected=0.298\n"
          ]
        },
        {
          "output_type": "stream",
          "name": "stderr",
          "text": [
            "/usr/local/lib/python3.7/dist-packages/statsmodels/base/model.py:568: ConvergenceWarning: Maximum Likelihood optimization failed to converge. Check mle_retvals\n",
            "  \"Check mle_retvals\", ConvergenceWarning)\n"
          ]
        },
        {
          "output_type": "stream",
          "name": "stdout",
          "text": [
            ">predicted=0.317, expected=0.318\n",
            ">predicted=0.337, expected=0.333\n",
            ">predicted=0.347, expected=0.344\n",
            ">predicted=0.354, expected=0.352\n"
          ]
        },
        {
          "output_type": "stream",
          "name": "stderr",
          "text": [
            "/usr/local/lib/python3.7/dist-packages/statsmodels/base/model.py:568: ConvergenceWarning: Maximum Likelihood optimization failed to converge. Check mle_retvals\n",
            "  \"Check mle_retvals\", ConvergenceWarning)\n"
          ]
        },
        {
          "output_type": "stream",
          "name": "stdout",
          "text": [
            ">predicted=0.359, expected=0.358\n",
            ">predicted=0.364, expected=0.373\n",
            ">predicted=0.386, expected=0.390\n",
            ">predicted=0.405, expected=0.415\n",
            ">predicted=0.438, expected=0.435\n",
            ">predicted=0.455, expected=0.463\n",
            ">predicted=0.489, expected=0.487\n",
            ">predicted=0.509, expected=0.509\n",
            ">predicted=0.530, expected=0.532\n",
            ">predicted=0.552, expected=0.549\n",
            ">predicted=0.566, expected=0.564\n",
            ">predicted=0.577, expected=0.579\n",
            ">predicted=0.594, expected=0.590\n",
            ">predicted=0.601, expected=0.602\n"
          ]
        },
        {
          "output_type": "stream",
          "name": "stderr",
          "text": [
            "/usr/local/lib/python3.7/dist-packages/statsmodels/base/model.py:568: ConvergenceWarning: Maximum Likelihood optimization failed to converge. Check mle_retvals\n",
            "  \"Check mle_retvals\", ConvergenceWarning)\n"
          ]
        },
        {
          "output_type": "stream",
          "name": "stdout",
          "text": [
            ">predicted=0.613, expected=0.606\n",
            ">predicted=0.611, expected=0.609\n",
            ">predicted=0.612, expected=0.608\n",
            ">predicted=0.608, expected=0.609\n",
            ">predicted=0.609, expected=0.601\n"
          ]
        },
        {
          "output_type": "stream",
          "name": "stderr",
          "text": [
            "/usr/local/lib/python3.7/dist-packages/statsmodels/base/model.py:568: ConvergenceWarning: Maximum Likelihood optimization failed to converge. Check mle_retvals\n",
            "  \"Check mle_retvals\", ConvergenceWarning)\n"
          ]
        },
        {
          "output_type": "stream",
          "name": "stdout",
          "text": [
            ">predicted=0.594, expected=0.590\n",
            ">predicted=0.581, expected=0.572\n",
            ">predicted=0.555, expected=0.561\n",
            ">predicted=0.551, expected=0.546\n",
            ">predicted=0.531, expected=0.521\n",
            ">predicted=0.499, expected=0.500\n",
            ">predicted=0.480, expected=0.478\n",
            ">predicted=0.457, expected=0.465\n",
            ">predicted=0.453, expected=0.453\n",
            ">predicted=0.441, expected=0.444\n",
            ">predicted=0.435, expected=0.436\n"
          ]
        },
        {
          "output_type": "stream",
          "name": "stderr",
          "text": [
            "/usr/local/lib/python3.7/dist-packages/statsmodels/base/model.py:568: ConvergenceWarning: Maximum Likelihood optimization failed to converge. Check mle_retvals\n",
            "  \"Check mle_retvals\", ConvergenceWarning)\n"
          ]
        },
        {
          "output_type": "stream",
          "name": "stdout",
          "text": [
            ">predicted=0.429, expected=0.428\n",
            ">predicted=0.420, expected=0.420\n",
            ">predicted=0.413, expected=0.412\n",
            ">predicted=0.404, expected=0.405\n",
            ">predicted=0.399, expected=0.398\n",
            ">predicted=0.391, expected=0.390\n",
            ">predicted=0.382, expected=0.381\n",
            ">predicted=0.372, expected=0.370\n",
            ">predicted=0.361, expected=0.367\n",
            ">predicted=0.363, expected=0.368\n"
          ]
        },
        {
          "output_type": "stream",
          "name": "stderr",
          "text": [
            "/usr/local/lib/python3.7/dist-packages/statsmodels/base/model.py:568: ConvergenceWarning: Maximum Likelihood optimization failed to converge. Check mle_retvals\n",
            "  \"Check mle_retvals\", ConvergenceWarning)\n"
          ]
        },
        {
          "output_type": "stream",
          "name": "stdout",
          "text": [
            ">predicted=0.368, expected=0.374\n",
            ">predicted=0.379, expected=0.383\n",
            ">predicted=0.392, expected=0.394\n"
          ]
        },
        {
          "output_type": "stream",
          "name": "stderr",
          "text": [
            "/usr/local/lib/python3.7/dist-packages/statsmodels/base/model.py:568: ConvergenceWarning: Maximum Likelihood optimization failed to converge. Check mle_retvals\n",
            "  \"Check mle_retvals\", ConvergenceWarning)\n"
          ]
        },
        {
          "output_type": "stream",
          "name": "stdout",
          "text": [
            ">predicted=0.403, expected=0.409\n",
            ">predicted=0.422, expected=0.425\n",
            ">predicted=0.440, expected=0.443\n",
            ">predicted=0.460, expected=0.465\n",
            ">predicted=0.485, expected=0.481\n",
            ">predicted=0.497, expected=0.490\n",
            ">predicted=0.500, expected=0.499\n",
            ">predicted=0.507, expected=0.506\n",
            ">predicted=0.513, expected=0.504\n",
            ">predicted=0.504, expected=0.498\n",
            ">predicted=0.493, expected=0.488\n",
            ">predicted=0.479, expected=0.477\n",
            ">predicted=0.467, expected=0.466\n"
          ]
        },
        {
          "output_type": "stream",
          "name": "stderr",
          "text": [
            "/usr/local/lib/python3.7/dist-packages/statsmodels/base/model.py:568: ConvergenceWarning: Maximum Likelihood optimization failed to converge. Check mle_retvals\n",
            "  \"Check mle_retvals\", ConvergenceWarning)\n"
          ]
        },
        {
          "output_type": "stream",
          "name": "stdout",
          "text": [
            ">predicted=0.455, expected=0.451\n",
            ">predicted=0.437, expected=0.434\n",
            ">predicted=0.418, expected=0.416\n",
            ">predicted=0.399, expected=0.401\n",
            ">predicted=0.387, expected=0.386\n",
            ">predicted=0.372, expected=0.371\n",
            ">predicted=0.357, expected=0.358\n"
          ]
        },
        {
          "output_type": "stream",
          "name": "stderr",
          "text": [
            "/usr/local/lib/python3.7/dist-packages/statsmodels/base/model.py:568: ConvergenceWarning: Maximum Likelihood optimization failed to converge. Check mle_retvals\n",
            "  \"Check mle_retvals\", ConvergenceWarning)\n"
          ]
        },
        {
          "output_type": "stream",
          "name": "stdout",
          "text": [
            ">predicted=0.345, expected=0.346\n",
            ">predicted=0.334, expected=0.336\n"
          ]
        },
        {
          "output_type": "stream",
          "name": "stderr",
          "text": [
            "/usr/local/lib/python3.7/dist-packages/statsmodels/base/model.py:568: ConvergenceWarning: Maximum Likelihood optimization failed to converge. Check mle_retvals\n",
            "  \"Check mle_retvals\", ConvergenceWarning)\n"
          ]
        },
        {
          "output_type": "stream",
          "name": "stdout",
          "text": [
            ">predicted=0.327, expected=0.328\n",
            ">predicted=0.320, expected=0.318\n",
            ">predicted=0.309, expected=0.311\n",
            ">predicted=0.305, expected=0.305\n",
            ">predicted=0.298, expected=0.300\n",
            ">predicted=0.295, expected=0.300\n",
            ">predicted=0.299, expected=0.301\n"
          ]
        },
        {
          "output_type": "stream",
          "name": "stderr",
          "text": [
            "/usr/local/lib/python3.7/dist-packages/statsmodels/base/model.py:568: ConvergenceWarning: Maximum Likelihood optimization failed to converge. Check mle_retvals\n",
            "  \"Check mle_retvals\", ConvergenceWarning)\n"
          ]
        },
        {
          "output_type": "stream",
          "name": "stdout",
          "text": [
            ">predicted=0.302, expected=0.304\n",
            ">predicted=0.307, expected=0.311\n",
            ">predicted=0.317, expected=0.320\n",
            ">predicted=0.328, expected=0.331\n",
            ">predicted=0.341, expected=0.341\n",
            ">predicted=0.351, expected=0.347\n",
            ">predicted=0.354, expected=0.362\n",
            ">predicted=0.375, expected=0.376\n",
            ">predicted=0.390, expected=0.390\n",
            ">predicted=0.402, expected=0.399\n",
            ">predicted=0.407, expected=0.414\n",
            ">predicted=0.428, expected=0.421\n",
            ">predicted=0.428, expected=0.438\n",
            ">predicted=0.453, expected=0.451\n",
            ">predicted=0.464, expected=0.464\n",
            ">predicted=0.477, expected=0.474\n",
            ">predicted=0.483, expected=0.486\n",
            ">predicted=0.497, expected=0.491\n",
            ">predicted=0.497, expected=0.499\n",
            ">predicted=0.506, expected=0.504\n",
            ">predicted=0.508, expected=0.512\n",
            ">predicted=0.520, expected=0.518\n",
            ">predicted=0.524, expected=0.529\n",
            ">predicted=0.539, expected=0.541\n",
            ">predicted=0.553, expected=0.545\n",
            ">predicted=0.549, expected=0.552\n",
            ">predicted=0.558, expected=0.553\n",
            ">predicted=0.554, expected=0.551\n",
            ">predicted=0.549, expected=0.550\n",
            ">predicted=0.550, expected=0.547\n",
            ">predicted=0.544, expected=0.539\n",
            ">predicted=0.532, expected=0.538\n",
            ">predicted=0.537, expected=0.532\n",
            ">predicted=0.526, expected=0.525\n",
            ">predicted=0.519, expected=0.511\n",
            ">predicted=0.499, expected=0.497\n",
            ">predicted=0.483, expected=0.483\n",
            ">predicted=0.470, expected=0.467\n",
            ">predicted=0.451, expected=0.448\n",
            ">predicted=0.430, expected=0.432\n",
            ">predicted=0.417, expected=0.420\n"
          ]
        },
        {
          "output_type": "stream",
          "name": "stderr",
          "text": [
            "/usr/local/lib/python3.7/dist-packages/statsmodels/base/model.py:568: ConvergenceWarning: Maximum Likelihood optimization failed to converge. Check mle_retvals\n",
            "  \"Check mle_retvals\", ConvergenceWarning)\n"
          ]
        },
        {
          "output_type": "stream",
          "name": "stdout",
          "text": [
            ">predicted=0.408, expected=0.405\n",
            ">predicted=0.392, expected=0.395\n",
            ">predicted=0.385, expected=0.389\n",
            ">predicted=0.382, expected=0.384\n",
            ">predicted=0.379, expected=0.373\n"
          ]
        },
        {
          "output_type": "stream",
          "name": "stderr",
          "text": [
            "/usr/local/lib/python3.7/dist-packages/statsmodels/base/model.py:568: ConvergenceWarning: Maximum Likelihood optimization failed to converge. Check mle_retvals\n",
            "  \"Check mle_retvals\", ConvergenceWarning)\n"
          ]
        },
        {
          "output_type": "stream",
          "name": "stdout",
          "text": [
            ">predicted=0.363, expected=0.369\n",
            ">predicted=0.366, expected=0.367\n",
            ">predicted=0.365, expected=0.362\n"
          ]
        },
        {
          "output_type": "stream",
          "name": "stderr",
          "text": [
            "/usr/local/lib/python3.7/dist-packages/statsmodels/base/model.py:568: ConvergenceWarning: Maximum Likelihood optimization failed to converge. Check mle_retvals\n",
            "  \"Check mle_retvals\", ConvergenceWarning)\n"
          ]
        },
        {
          "output_type": "stream",
          "name": "stdout",
          "text": [
            ">predicted=0.357, expected=0.357\n",
            ">predicted=0.353, expected=0.353\n",
            ">predicted=0.348, expected=0.352\n",
            ">predicted=0.350, expected=0.346\n",
            ">predicted=0.341, expected=0.347\n",
            ">predicted=0.348, expected=0.340\n",
            ">predicted=0.335, expected=0.336\n",
            ">predicted=0.331, expected=0.334\n",
            ">predicted=0.332, expected=0.325\n",
            ">predicted=0.317, expected=0.328\n",
            ">predicted=0.330, expected=0.326\n",
            ">predicted=0.325, expected=0.322\n",
            ">predicted=0.319, expected=0.318\n",
            ">predicted=0.314, expected=0.317\n",
            ">predicted=0.316, expected=0.311\n",
            ">predicted=0.307, expected=0.306\n"
          ]
        },
        {
          "output_type": "stream",
          "name": "stderr",
          "text": [
            "/usr/local/lib/python3.7/dist-packages/statsmodels/base/model.py:568: ConvergenceWarning: Maximum Likelihood optimization failed to converge. Check mle_retvals\n",
            "  \"Check mle_retvals\", ConvergenceWarning)\n"
          ]
        },
        {
          "output_type": "stream",
          "name": "stdout",
          "text": [
            ">predicted=0.301, expected=0.301\n",
            ">predicted=0.297, expected=0.296\n",
            ">predicted=0.290, expected=0.287\n",
            ">predicted=0.279, expected=0.278\n",
            ">predicted=0.270, expected=0.271\n",
            ">predicted=0.264, expected=0.264\n",
            ">predicted=0.258, expected=0.257\n",
            ">predicted=0.250, expected=0.250\n",
            ">predicted=0.244, expected=0.241\n"
          ]
        },
        {
          "output_type": "stream",
          "name": "stderr",
          "text": [
            "/usr/local/lib/python3.7/dist-packages/statsmodels/base/model.py:568: ConvergenceWarning: Maximum Likelihood optimization failed to converge. Check mle_retvals\n",
            "  \"Check mle_retvals\", ConvergenceWarning)\n"
          ]
        },
        {
          "output_type": "stream",
          "name": "stdout",
          "text": [
            ">predicted=0.233, expected=0.231\n",
            ">predicted=0.221, expected=0.221\n",
            ">predicted=0.212, expected=0.208\n",
            ">predicted=0.197, expected=0.200\n",
            ">predicted=0.193, expected=0.188\n",
            ">predicted=0.177, expected=0.178\n",
            ">predicted=0.169, expected=0.173\n",
            ">predicted=0.167, expected=0.168\n",
            ">predicted=0.164, expected=0.169\n"
          ]
        },
        {
          "output_type": "stream",
          "name": "stderr",
          "text": [
            "/usr/local/lib/python3.7/dist-packages/statsmodels/base/model.py:568: ConvergenceWarning: Maximum Likelihood optimization failed to converge. Check mle_retvals\n",
            "  \"Check mle_retvals\", ConvergenceWarning)\n"
          ]
        },
        {
          "output_type": "stream",
          "name": "stdout",
          "text": [
            ">predicted=0.170, expected=0.175\n"
          ]
        },
        {
          "output_type": "stream",
          "name": "stderr",
          "text": [
            "/usr/local/lib/python3.7/dist-packages/statsmodels/base/model.py:568: ConvergenceWarning: Maximum Likelihood optimization failed to converge. Check mle_retvals\n",
            "  \"Check mle_retvals\", ConvergenceWarning)\n"
          ]
        },
        {
          "output_type": "stream",
          "name": "stdout",
          "text": [
            ">predicted=0.179, expected=0.188\n"
          ]
        },
        {
          "output_type": "stream",
          "name": "stderr",
          "text": [
            "/usr/local/lib/python3.7/dist-packages/statsmodels/base/model.py:568: ConvergenceWarning: Maximum Likelihood optimization failed to converge. Check mle_retvals\n",
            "  \"Check mle_retvals\", ConvergenceWarning)\n"
          ]
        },
        {
          "output_type": "stream",
          "name": "stdout",
          "text": [
            ">predicted=0.200, expected=0.207\n",
            ">predicted=0.225, expected=0.230\n",
            ">predicted=0.250, expected=0.257\n",
            ">predicted=0.282, expected=0.287\n",
            ">predicted=0.314, expected=0.326\n",
            ">predicted=0.362, expected=0.359\n",
            ">predicted=0.391, expected=0.396\n"
          ]
        },
        {
          "output_type": "stream",
          "name": "stderr",
          "text": [
            "/usr/local/lib/python3.7/dist-packages/statsmodels/base/model.py:568: ConvergenceWarning: Maximum Likelihood optimization failed to converge. Check mle_retvals\n",
            "  \"Check mle_retvals\", ConvergenceWarning)\n"
          ]
        },
        {
          "output_type": "stream",
          "name": "stdout",
          "text": [
            ">predicted=0.431, expected=0.430\n",
            ">predicted=0.462, expected=0.458\n",
            ">predicted=0.484, expected=0.481\n",
            ">predicted=0.504, expected=0.497\n",
            ">predicted=0.512, expected=0.515\n",
            ">predicted=0.531, expected=0.528\n"
          ]
        },
        {
          "output_type": "stream",
          "name": "stderr",
          "text": [
            "/usr/local/lib/python3.7/dist-packages/statsmodels/base/model.py:568: ConvergenceWarning: Maximum Likelihood optimization failed to converge. Check mle_retvals\n",
            "  \"Check mle_retvals\", ConvergenceWarning)\n"
          ]
        },
        {
          "output_type": "stream",
          "name": "stdout",
          "text": [
            ">predicted=0.541, expected=0.532\n",
            ">predicted=0.536, expected=0.536\n",
            ">predicted=0.540, expected=0.534\n",
            ">predicted=0.532, expected=0.537\n"
          ]
        },
        {
          "output_type": "stream",
          "name": "stderr",
          "text": [
            "/usr/local/lib/python3.7/dist-packages/statsmodels/base/model.py:568: ConvergenceWarning: Maximum Likelihood optimization failed to converge. Check mle_retvals\n",
            "  \"Check mle_retvals\", ConvergenceWarning)\n"
          ]
        },
        {
          "output_type": "stream",
          "name": "stdout",
          "text": [
            ">predicted=0.540, expected=0.536\n",
            ">predicted=0.535, expected=0.535\n",
            ">predicted=0.534, expected=0.534\n",
            ">predicted=0.532, expected=0.538\n",
            ">predicted=0.542, expected=0.538\n",
            ">predicted=0.539, expected=0.548\n",
            ">predicted=0.557, expected=0.559\n",
            ">predicted=0.570, expected=0.569\n",
            ">predicted=0.579, expected=0.582\n",
            ">predicted=0.593, expected=0.592\n",
            ">predicted=0.602, expected=0.595\n",
            ">predicted=0.599, expected=0.597\n",
            ">predicted=0.600, expected=0.596\n",
            ">predicted=0.595, expected=0.581\n",
            ">predicted=0.568, expected=0.571\n",
            ">predicted=0.561, expected=0.546\n",
            ">predicted=0.524, expected=0.519\n",
            ">predicted=0.494, expected=0.498\n",
            ">predicted=0.477, expected=0.465\n",
            ">predicted=0.436, expected=0.444\n",
            ">predicted=0.424, expected=0.413\n",
            ">predicted=0.384, expected=0.386\n"
          ]
        },
        {
          "output_type": "stream",
          "name": "stderr",
          "text": [
            "/usr/local/lib/python3.7/dist-packages/statsmodels/base/model.py:568: ConvergenceWarning: Maximum Likelihood optimization failed to converge. Check mle_retvals\n",
            "  \"Check mle_retvals\", ConvergenceWarning)\n"
          ]
        },
        {
          "output_type": "stream",
          "name": "stdout",
          "text": [
            ">predicted=0.361, expected=0.355\n",
            ">predicted=0.326, expected=0.329\n",
            ">predicted=0.304, expected=0.309\n",
            ">predicted=0.289, expected=0.279\n",
            ">predicted=0.251, expected=0.258\n",
            ">predicted=0.237, expected=0.232\n",
            ">predicted=0.208, expected=0.208\n",
            ">predicted=0.186, expected=0.194\n",
            ">predicted=0.179, expected=0.179\n",
            ">predicted=0.165, expected=0.165\n",
            ">predicted=0.151, expected=0.156\n",
            ">predicted=0.147, expected=0.151\n",
            ">predicted=0.146, expected=0.146\n",
            ">predicted=0.141, expected=0.141\n",
            ">predicted=0.137, expected=0.139\n",
            ">predicted=0.136, expected=0.136\n",
            ">predicted=0.133, expected=0.132\n",
            ">predicted=0.129, expected=0.123\n",
            ">predicted=0.115, expected=0.123\n",
            ">predicted=0.122, expected=0.120\n",
            ">predicted=0.117, expected=0.116\n",
            ">predicted=0.113, expected=0.111\n"
          ]
        },
        {
          "output_type": "stream",
          "name": "stderr",
          "text": [
            "/usr/local/lib/python3.7/dist-packages/statsmodels/base/model.py:568: ConvergenceWarning: Maximum Likelihood optimization failed to converge. Check mle_retvals\n",
            "  \"Check mle_retvals\", ConvergenceWarning)\n"
          ]
        },
        {
          "output_type": "stream",
          "name": "stdout",
          "text": [
            ">predicted=0.106, expected=0.105\n",
            ">predicted=0.100, expected=0.100\n"
          ]
        },
        {
          "output_type": "stream",
          "name": "stderr",
          "text": [
            "/usr/local/lib/python3.7/dist-packages/statsmodels/base/model.py:568: ConvergenceWarning: Maximum Likelihood optimization failed to converge. Check mle_retvals\n",
            "  \"Check mle_retvals\", ConvergenceWarning)\n"
          ]
        },
        {
          "output_type": "stream",
          "name": "stdout",
          "text": [
            ">predicted=0.095, expected=0.090\n",
            ">predicted=0.081, expected=0.088\n",
            ">predicted=0.086, expected=0.086\n",
            ">predicted=0.085, expected=0.080\n",
            ">predicted=0.074, expected=0.077\n",
            ">predicted=0.075, expected=0.075\n"
          ]
        },
        {
          "output_type": "stream",
          "name": "stderr",
          "text": [
            "/usr/local/lib/python3.7/dist-packages/statsmodels/base/model.py:568: ConvergenceWarning: Maximum Likelihood optimization failed to converge. Check mle_retvals\n",
            "  \"Check mle_retvals\", ConvergenceWarning)\n"
          ]
        },
        {
          "output_type": "stream",
          "name": "stdout",
          "text": [
            ">predicted=0.073, expected=0.073\n",
            ">predicted=0.071, expected=0.066\n",
            ">predicted=0.061, expected=0.064\n",
            ">predicted=0.061, expected=0.059\n",
            ">predicted=0.055, expected=0.058\n",
            ">predicted=0.057, expected=0.057\n",
            ">predicted=0.056, expected=0.054\n",
            ">predicted=0.051, expected=0.050\n",
            ">predicted=0.047, expected=0.045\n",
            ">predicted=0.040, expected=0.040\n",
            ">predicted=0.036, expected=0.038\n",
            ">predicted=0.036, expected=0.035\n",
            ">predicted=0.032, expected=0.030\n",
            ">predicted=0.026, expected=0.026\n",
            ">predicted=0.021, expected=0.020\n",
            ">predicted=0.015, expected=0.017\n"
          ]
        },
        {
          "output_type": "stream",
          "name": "stderr",
          "text": [
            "/usr/local/lib/python3.7/dist-packages/statsmodels/base/model.py:568: ConvergenceWarning: Maximum Likelihood optimization failed to converge. Check mle_retvals\n",
            "  \"Check mle_retvals\", ConvergenceWarning)\n"
          ]
        },
        {
          "output_type": "stream",
          "name": "stdout",
          "text": [
            ">predicted=0.013, expected=0.012\n",
            ">predicted=0.008, expected=0.008\n"
          ]
        },
        {
          "output_type": "stream",
          "name": "stderr",
          "text": [
            "/usr/local/lib/python3.7/dist-packages/statsmodels/base/model.py:568: ConvergenceWarning: Maximum Likelihood optimization failed to converge. Check mle_retvals\n",
            "  \"Check mle_retvals\", ConvergenceWarning)\n"
          ]
        },
        {
          "output_type": "stream",
          "name": "stdout",
          "text": [
            ">predicted=0.004, expected=0.005\n",
            ">predicted=0.003, expected=0.006\n",
            ">predicted=0.005, expected=0.001\n"
          ]
        },
        {
          "output_type": "stream",
          "name": "stderr",
          "text": [
            "/usr/local/lib/python3.7/dist-packages/statsmodels/base/model.py:568: ConvergenceWarning: Maximum Likelihood optimization failed to converge. Check mle_retvals\n",
            "  \"Check mle_retvals\", ConvergenceWarning)\n"
          ]
        },
        {
          "output_type": "stream",
          "name": "stdout",
          "text": [
            ">predicted=-0.002, expected=0.001\n",
            ">predicted=0.001, expected=0.000\n",
            ">predicted=-0.001, expected=0.008\n",
            ">predicted=0.014, expected=0.010\n",
            ">predicted=0.012, expected=0.015\n",
            ">predicted=0.019, expected=0.013\n",
            ">predicted=0.013, expected=0.016\n",
            ">predicted=0.018, expected=0.024\n"
          ]
        },
        {
          "output_type": "stream",
          "name": "stderr",
          "text": [
            "/usr/local/lib/python3.7/dist-packages/statsmodels/base/model.py:568: ConvergenceWarning: Maximum Likelihood optimization failed to converge. Check mle_retvals\n",
            "  \"Check mle_retvals\", ConvergenceWarning)\n"
          ]
        },
        {
          "output_type": "stream",
          "name": "stdout",
          "text": [
            ">predicted=0.030, expected=0.028\n",
            ">predicted=0.032, expected=0.034\n",
            ">predicted=0.039, expected=0.033\n",
            ">predicted=0.032, expected=0.037\n",
            ">predicted=0.041, expected=0.038\n",
            ">predicted=0.039, expected=0.049\n",
            ">predicted=0.059, expected=0.052\n"
          ]
        },
        {
          "output_type": "stream",
          "name": "stderr",
          "text": [
            "/usr/local/lib/python3.7/dist-packages/statsmodels/base/model.py:568: ConvergenceWarning: Maximum Likelihood optimization failed to converge. Check mle_retvals\n",
            "  \"Check mle_retvals\", ConvergenceWarning)\n"
          ]
        },
        {
          "output_type": "stream",
          "name": "stdout",
          "text": [
            ">predicted=0.055, expected=0.052\n",
            ">predicted=0.052, expected=0.057\n",
            ">predicted=0.062, expected=0.059\n",
            ">predicted=0.062, expected=0.060\n",
            ">predicted=0.062, expected=0.059\n",
            ">predicted=0.058, expected=0.059\n",
            ">predicted=0.059, expected=0.059\n",
            ">predicted=0.059, expected=0.057\n",
            ">predicted=0.056, expected=0.055\n",
            ">predicted=0.053, expected=0.047\n",
            ">predicted=0.040, expected=0.053\n"
          ]
        },
        {
          "output_type": "stream",
          "name": "stderr",
          "text": [
            "/usr/local/lib/python3.7/dist-packages/statsmodels/base/model.py:568: ConvergenceWarning: Maximum Likelihood optimization failed to converge. Check mle_retvals\n",
            "  \"Check mle_retvals\", ConvergenceWarning)\n"
          ]
        },
        {
          "output_type": "stream",
          "name": "stdout",
          "text": [
            ">predicted=0.057, expected=0.044\n"
          ]
        },
        {
          "output_type": "stream",
          "name": "stderr",
          "text": [
            "/usr/local/lib/python3.7/dist-packages/statsmodels/base/model.py:568: ConvergenceWarning: Maximum Likelihood optimization failed to converge. Check mle_retvals\n",
            "  \"Check mle_retvals\", ConvergenceWarning)\n"
          ]
        },
        {
          "output_type": "stream",
          "name": "stdout",
          "text": [
            ">predicted=0.037, expected=0.046\n",
            ">predicted=0.047, expected=0.044\n",
            ">predicted=0.042, expected=0.045\n",
            ">predicted=0.046, expected=0.044\n",
            ">predicted=0.043, expected=0.047\n",
            ">predicted=0.050, expected=0.049\n"
          ]
        },
        {
          "output_type": "stream",
          "name": "stderr",
          "text": [
            "/usr/local/lib/python3.7/dist-packages/statsmodels/base/model.py:568: ConvergenceWarning: Maximum Likelihood optimization failed to converge. Check mle_retvals\n",
            "  \"Check mle_retvals\", ConvergenceWarning)\n"
          ]
        },
        {
          "output_type": "stream",
          "name": "stdout",
          "text": [
            ">predicted=0.051, expected=0.054\n",
            ">predicted=0.057, expected=0.053\n",
            ">predicted=0.052, expected=0.054\n",
            ">predicted=0.055, expected=0.050\n",
            ">predicted=0.048, expected=0.056\n"
          ]
        },
        {
          "output_type": "stream",
          "name": "stderr",
          "text": [
            "/usr/local/lib/python3.7/dist-packages/statsmodels/base/model.py:568: ConvergenceWarning: Maximum Likelihood optimization failed to converge. Check mle_retvals\n",
            "  \"Check mle_retvals\", ConvergenceWarning)\n"
          ]
        },
        {
          "output_type": "stream",
          "name": "stdout",
          "text": [
            ">predicted=0.060, expected=0.031\n",
            ">predicted=0.011, expected=0.060\n"
          ]
        },
        {
          "output_type": "stream",
          "name": "stderr",
          "text": [
            "/usr/local/lib/python3.7/dist-packages/statsmodels/base/model.py:568: ConvergenceWarning: Maximum Likelihood optimization failed to converge. Check mle_retvals\n",
            "  \"Check mle_retvals\", ConvergenceWarning)\n"
          ]
        },
        {
          "output_type": "stream",
          "name": "stdout",
          "text": [
            ">predicted=0.081, expected=0.064\n",
            ">predicted=0.070, expected=0.068\n",
            ">predicted=0.073, expected=0.073\n"
          ]
        },
        {
          "output_type": "stream",
          "name": "stderr",
          "text": [
            "/usr/local/lib/python3.7/dist-packages/statsmodels/base/model.py:568: ConvergenceWarning: Maximum Likelihood optimization failed to converge. Check mle_retvals\n",
            "  \"Check mle_retvals\", ConvergenceWarning)\n"
          ]
        },
        {
          "output_type": "stream",
          "name": "stdout",
          "text": [
            ">predicted=0.077, expected=0.082\n",
            ">predicted=0.089, expected=0.088\n",
            ">predicted=0.095, expected=0.100\n",
            ">predicted=0.110, expected=0.111\n"
          ]
        },
        {
          "output_type": "stream",
          "name": "stderr",
          "text": [
            "/usr/local/lib/python3.7/dist-packages/statsmodels/base/model.py:568: ConvergenceWarning: Maximum Likelihood optimization failed to converge. Check mle_retvals\n",
            "  \"Check mle_retvals\", ConvergenceWarning)\n"
          ]
        },
        {
          "output_type": "stream",
          "name": "stdout",
          "text": [
            ">predicted=0.121, expected=0.123\n",
            ">predicted=0.135, expected=0.137\n",
            ">predicted=0.149, expected=0.156\n",
            ">predicted=0.173, expected=0.167\n",
            ">predicted=0.178, expected=0.175\n",
            ">predicted=0.183, expected=0.178\n",
            ">predicted=0.182, expected=0.172\n",
            ">predicted=0.167, expected=0.153\n",
            ">predicted=0.138, expected=0.148\n",
            ">predicted=0.141, expected=0.123\n",
            ">predicted=0.102, expected=0.101\n",
            ">predicted=0.080, expected=0.083\n",
            ">predicted=0.065, expected=0.065\n",
            ">predicted=0.048, expected=0.048\n"
          ]
        },
        {
          "output_type": "stream",
          "name": "stderr",
          "text": [
            "/usr/local/lib/python3.7/dist-packages/statsmodels/base/model.py:568: ConvergenceWarning: Maximum Likelihood optimization failed to converge. Check mle_retvals\n",
            "  \"Check mle_retvals\", ConvergenceWarning)\n"
          ]
        },
        {
          "output_type": "stream",
          "name": "stdout",
          "text": [
            ">predicted=0.032, expected=0.037\n",
            ">predicted=0.025, expected=0.024\n",
            ">predicted=0.012, expected=0.016\n",
            ">predicted=0.008, expected=0.012\n",
            ">predicted=0.007, expected=0.007\n",
            ">predicted=0.003, expected=0.012\n",
            ">predicted=0.015, expected=0.012\n",
            ">predicted=0.012, expected=0.012\n",
            ">predicted=0.012, expected=0.019\n",
            ">predicted=0.024, expected=0.029\n",
            ">predicted=0.038, expected=0.034\n",
            ">predicted=0.040, expected=0.048\n"
          ]
        },
        {
          "output_type": "stream",
          "name": "stderr",
          "text": [
            "/usr/local/lib/python3.7/dist-packages/statsmodels/base/model.py:568: ConvergenceWarning: Maximum Likelihood optimization failed to converge. Check mle_retvals\n",
            "  \"Check mle_retvals\", ConvergenceWarning)\n"
          ]
        },
        {
          "output_type": "stream",
          "name": "stdout",
          "text": [
            ">predicted=0.059, expected=0.060\n",
            ">predicted=0.072, expected=0.066\n",
            ">predicted=0.072, expected=0.075\n",
            ">predicted=0.083, expected=0.083\n",
            ">predicted=0.091, expected=0.090\n",
            ">predicted=0.097, expected=0.097\n"
          ]
        },
        {
          "output_type": "stream",
          "name": "stderr",
          "text": [
            "/usr/local/lib/python3.7/dist-packages/statsmodels/base/model.py:568: ConvergenceWarning: Maximum Likelihood optimization failed to converge. Check mle_retvals\n",
            "  \"Check mle_retvals\", ConvergenceWarning)\n"
          ]
        },
        {
          "output_type": "stream",
          "name": "stdout",
          "text": [
            ">predicted=0.103, expected=0.101\n",
            ">predicted=0.105, expected=0.105\n",
            ">predicted=0.108, expected=0.108\n",
            ">predicted=0.111, expected=0.111\n",
            ">predicted=0.114, expected=0.114\n",
            ">predicted=0.117, expected=0.115\n"
          ]
        },
        {
          "output_type": "stream",
          "name": "stderr",
          "text": [
            "/usr/local/lib/python3.7/dist-packages/statsmodels/base/model.py:568: ConvergenceWarning: Maximum Likelihood optimization failed to converge. Check mle_retvals\n",
            "  \"Check mle_retvals\", ConvergenceWarning)\n"
          ]
        },
        {
          "output_type": "stream",
          "name": "stdout",
          "text": [
            ">predicted=0.116, expected=0.112\n"
          ]
        },
        {
          "output_type": "stream",
          "name": "stderr",
          "text": [
            "/usr/local/lib/python3.7/dist-packages/statsmodels/base/model.py:568: ConvergenceWarning: Maximum Likelihood optimization failed to converge. Check mle_retvals\n",
            "  \"Check mle_retvals\", ConvergenceWarning)\n"
          ]
        },
        {
          "output_type": "stream",
          "name": "stdout",
          "text": [
            ">predicted=0.111, expected=0.111\n",
            ">predicted=0.110, expected=0.107\n",
            ">predicted=0.103, expected=0.098\n",
            ">predicted=0.090, expected=0.093\n",
            ">predicted=0.088, expected=0.093\n",
            ">predicted=0.093, expected=0.104\n",
            ">predicted=0.112, expected=0.123\n"
          ]
        },
        {
          "output_type": "stream",
          "name": "stderr",
          "text": [
            "/usr/local/lib/python3.7/dist-packages/statsmodels/base/model.py:568: ConvergenceWarning: Maximum Likelihood optimization failed to converge. Check mle_retvals\n",
            "  \"Check mle_retvals\", ConvergenceWarning)\n"
          ]
        },
        {
          "output_type": "stream",
          "name": "stdout",
          "text": [
            ">predicted=0.139, expected=0.147\n",
            ">predicted=0.169, expected=0.172\n",
            ">predicted=0.195, expected=0.195\n",
            ">predicted=0.217, expected=0.220\n",
            ">predicted=0.244, expected=0.242\n",
            ">predicted=0.262, expected=0.263\n",
            ">predicted=0.284, expected=0.280\n",
            ">predicted=0.297, expected=0.290\n",
            ">predicted=0.301, expected=0.295\n",
            ">predicted=0.301, expected=0.295\n",
            ">predicted=0.296, expected=0.288\n",
            ">predicted=0.282, expected=0.277\n",
            ">predicted=0.268, expected=0.268\n",
            ">predicted=0.259, expected=0.257\n",
            ">predicted=0.247, expected=0.244\n",
            ">predicted=0.232, expected=0.229\n",
            ">predicted=0.215, expected=0.213\n",
            ">predicted=0.198, expected=0.201\n"
          ]
        },
        {
          "output_type": "stream",
          "name": "stderr",
          "text": [
            "/usr/local/lib/python3.7/dist-packages/statsmodels/base/model.py:568: ConvergenceWarning: Maximum Likelihood optimization failed to converge. Check mle_retvals\n",
            "  \"Check mle_retvals\", ConvergenceWarning)\n"
          ]
        },
        {
          "output_type": "stream",
          "name": "stdout",
          "text": [
            ">predicted=0.189, expected=0.189\n",
            ">predicted=0.178, expected=0.179\n"
          ]
        },
        {
          "output_type": "stream",
          "name": "stderr",
          "text": [
            "/usr/local/lib/python3.7/dist-packages/statsmodels/base/model.py:568: ConvergenceWarning: Maximum Likelihood optimization failed to converge. Check mle_retvals\n",
            "  \"Check mle_retvals\", ConvergenceWarning)\n"
          ]
        },
        {
          "output_type": "stream",
          "name": "stdout",
          "text": [
            ">predicted=0.169, expected=0.170\n",
            ">predicted=0.161, expected=0.159\n",
            ">predicted=0.149, expected=0.150\n"
          ]
        },
        {
          "output_type": "stream",
          "name": "stderr",
          "text": [
            "/usr/local/lib/python3.7/dist-packages/statsmodels/base/model.py:568: ConvergenceWarning: Maximum Likelihood optimization failed to converge. Check mle_retvals\n",
            "  \"Check mle_retvals\", ConvergenceWarning)\n"
          ]
        }
      ]
    },
    {
      "cell_type": "code",
      "metadata": {
        "id": "1g7Pr4Kj5lGK",
        "colab": {
          "base_uri": "https://localhost:8080/"
        },
        "outputId": "72464b5a-f5a3-478a-dad2-4371c3d47c0b"
      },
      "source": [
        "d_p= pd.DataFrame(predictions, columns = ['y'])\n",
        "d_t= pd.DataFrame(test, columns = ['y'])\n",
        "print(d_p)\n",
        "print(type(d_p))"
      ],
      "execution_count": 5,
      "outputs": [
        {
          "output_type": "stream",
          "name": "stdout",
          "text": [
            "            y\n",
            "0    0.269802\n",
            "1    0.259627\n",
            "2    0.246054\n",
            "3    0.236203\n",
            "4    0.220872\n",
            "..        ...\n",
            "474  0.189103\n",
            "475  0.177873\n",
            "476  0.169400\n",
            "477  0.160963\n",
            "478  0.149208\n",
            "\n",
            "[479 rows x 1 columns]\n",
            "<class 'pandas.core.frame.DataFrame'>\n"
          ]
        }
      ]
    },
    {
      "cell_type": "code",
      "metadata": {
        "id": "ai20ttDC73-l",
        "colab": {
          "base_uri": "https://localhost:8080/",
          "height": 501
        },
        "outputId": "1a8ba6c7-4ad6-4608-cda0-a535ca9dec0f"
      },
      "source": [
        "plt.figure(figsize=(20,8))\n",
        "pyplot.plot(d_p, color='blue', label =\"predictions\")\n",
        "pyplot.plot(d_t, color='red',  label = \"actual\")\n",
        "plt.legend(fontsize=15)\n",
        "plt.title('Nilai y', fontsize=15)\n",
        "pyplot.show()"
      ],
      "execution_count": 12,
      "outputs": [
        {
          "output_type": "display_data",
          "data": {
            "image/png": "[encoded data removed]",
            "text/plain": [
              "<Figure size 1440x576 with 1 Axes>"
            ]
          },
          "metadata": {
            "needs_background": "light"
          }
        }
      ]
    }
  ]
}