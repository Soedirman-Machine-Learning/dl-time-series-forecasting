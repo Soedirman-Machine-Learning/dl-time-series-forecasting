{
  "nbformat": 4,
  "nbformat_minor": 0,
  "metadata": {
    "colab": {
      "name": "ARIMA_Univariat.ipynb",
      "provenance": [],
      "collapsed_sections": [],
      "include_colab_link": true
    },
    "kernelspec": {
      "display_name": "Python 3",
      "name": "python3"
    },
    "language_info": {
      "name": "python"
    }
  },
  "cells": [
    {
      "cell_type": "markdown",
      "metadata": {
        "id": "view-in-github",
        "colab_type": "text"
      },
      "source": [
        "<a href=\"https://colab.research.google.com/github/Soedirman-Machine-Learning/dl-time-series-forecasting/blob/main/ARIMA_Univariat.ipynb\" target=\"_parent\"><img src=\"https://colab.research.google.com/assets/colab-badge.svg\" alt=\"Open In Colab\"/></a>"
      ]
    },
    {
      "cell_type": "code",
      "metadata": {
        "colab": {
          "base_uri": "https://localhost:8080/",
          "height": 660
        },
        "id": "2CKzr4rqkvCS",
        "outputId": "2e3be311-f4ef-4234-cb2a-f75494240629"
      },
      "source": [
        "!pip install \"statsmodels==0.11.1\"\n",
        "!pip install \"scikit-learn==0.24\""
      ],
      "execution_count": 5,
      "outputs": [
        {
          "output_type": "stream",
          "name": "stdout",
          "text": [
            "Collecting statsmodels==0.11.1\n",
            "  Downloading statsmodels-0.11.1-cp37-cp37m-manylinux1_x86_64.whl (8.7 MB)\n",
            "\u001b[K     |████████████████████████████████| 8.7 MB 6.7 MB/s \n",
            "\u001b[?25hRequirement already satisfied: patsy>=0.5 in /usr/local/lib/python3.7/dist-packages (from statsmodels==0.11.1) (0.5.1)\n",
            "Requirement already satisfied: numpy>=1.14 in /usr/local/lib/python3.7/dist-packages (from statsmodels==0.11.1) (1.19.5)\n",
            "Requirement already satisfied: pandas>=0.21 in /usr/local/lib/python3.7/dist-packages (from statsmodels==0.11.1) (1.1.5)\n",
            "Requirement already satisfied: scipy>=1.0 in /usr/local/lib/python3.7/dist-packages (from statsmodels==0.11.1) (1.4.1)\n",
            "Requirement already satisfied: pytz>=2017.2 in /usr/local/lib/python3.7/dist-packages (from pandas>=0.21->statsmodels==0.11.1) (2018.9)\n",
            "Requirement already satisfied: python-dateutil>=2.7.3 in /usr/local/lib/python3.7/dist-packages (from pandas>=0.21->statsmodels==0.11.1) (2.8.2)\n",
            "Requirement already satisfied: six in /usr/local/lib/python3.7/dist-packages (from patsy>=0.5->statsmodels==0.11.1) (1.15.0)\n",
            "Installing collected packages: statsmodels\n",
            "  Attempting uninstall: statsmodels\n",
            "    Found existing installation: statsmodels 0.10.2\n",
            "    Uninstalling statsmodels-0.10.2:\n",
            "      Successfully uninstalled statsmodels-0.10.2\n",
            "Successfully installed statsmodels-0.11.1\n"
          ]
        },
        {
          "output_type": "display_data",
          "data": {
            "application/vnd.colab-display-data+json": {
              "pip_warning": {
                "packages": [
                  "statsmodels"
                ]
              }
            }
          },
          "metadata": {}
        },
        {
          "output_type": "stream",
          "name": "stdout",
          "text": [
            "Collecting scikit-learn==0.24\n",
            "  Downloading scikit_learn-0.24.0-cp37-cp37m-manylinux2010_x86_64.whl (22.3 MB)\n",
            "\u001b[K     |████████████████████████████████| 22.3 MB 110 kB/s \n",
            "\u001b[?25hRequirement already satisfied: scipy>=0.19.1 in /usr/local/lib/python3.7/dist-packages (from scikit-learn==0.24) (1.4.1)\n",
            "Requirement already satisfied: joblib>=0.11 in /usr/local/lib/python3.7/dist-packages (from scikit-learn==0.24) (1.0.1)\n",
            "Collecting threadpoolctl>=2.0.0\n",
            "  Downloading threadpoolctl-2.2.0-py3-none-any.whl (12 kB)\n",
            "Requirement already satisfied: numpy>=1.13.3 in /usr/local/lib/python3.7/dist-packages (from scikit-learn==0.24) (1.19.5)\n",
            "Installing collected packages: threadpoolctl, scikit-learn\n",
            "  Attempting uninstall: scikit-learn\n",
            "    Found existing installation: scikit-learn 0.22.2.post1\n",
            "    Uninstalling scikit-learn-0.22.2.post1:\n",
            "      Successfully uninstalled scikit-learn-0.22.2.post1\n",
            "Successfully installed scikit-learn-0.24.0 threadpoolctl-2.2.0\n"
          ]
        }
      ]
    },
    {
      "cell_type": "code",
      "metadata": {
        "colab": {
          "base_uri": "https://localhost:8080/"
        },
        "id": "FZN1ed_XaXOU",
        "outputId": "3effc465-640f-4744-f7a4-9fcab0e5cc28"
      },
      "source": [
        "! git clone https://github.com/Soedirman-Machine-Learning/dl-time-series-forecasting"
      ],
      "execution_count": 1,
      "outputs": [
        {
          "output_type": "stream",
          "name": "stdout",
          "text": [
            "Cloning into 'dl-time-series-forecasting'...\n",
            "remote: Enumerating objects: 11, done.\u001b[K\n",
            "remote: Counting objects: 100% (11/11), done.\u001b[K\n",
            "remote: Compressing objects: 100% (9/9), done.\u001b[K\n",
            "remote: Total 11 (delta 1), reused 0 (delta 0), pack-reused 0\u001b[K\n",
            "Unpacking objects: 100% (11/11), done.\n"
          ]
        }
      ]
    },
    {
      "cell_type": "code",
      "metadata": {
        "colab": {
          "base_uri": "https://localhost:8080/"
        },
        "id": "IPHaINB_azh8",
        "outputId": "f19c9a01-de69-4584-cdae-916b97c5d465"
      },
      "source": [
        "!ls"
      ],
      "execution_count": 3,
      "outputs": [
        {
          "output_type": "stream",
          "name": "stdout",
          "text": [
            "dl-time-series-forecasting  sample_data\n"
          ]
        }
      ]
    },
    {
      "cell_type": "code",
      "metadata": {
        "colab": {
          "base_uri": "https://localhost:8080/"
        },
        "id": "NC-cuGOloEDX",
        "outputId": "29bd8e96-184b-4dc3-f514-c1c704e0cf73"
      },
      "source": [
        "from pandas import read_csv\n",
        "from matplotlib import pyplot\n",
        "from statsmodels.tsa.arima.model import ARIMA\n",
        "from sklearn.metrics import mean_squared_error\n",
        "from sklearn.metrics import mean_absolute_error\n",
        "from sklearn.metrics import mean_absolute_percentage_error\n",
        "\n",
        "\n",
        "from math import sqrt\n",
        "import numpy\n",
        "\n",
        "def predict(coef, history):\n",
        "\tyhat = 0.0\n",
        "\tfor i in range(1, len(coef)+1):\n",
        "\t\tyhat += coef[i-1] * history[-i]\n",
        "\treturn yhat\n",
        "\n",
        "def difference(dataset):\n",
        "\tdiff = list()\n",
        "\tfor i in range(1, len(dataset)):\n",
        "\t\tvalue = dataset[i] - dataset[i - 1]\n",
        "\t\tdiff.append(value)\n",
        "\treturn numpy.array(diff)\n",
        "\n",
        "series = read_csv('https://raw.githubusercontent.com/Soedirman-Machine-Learning/dl-time-series-forecasting/main/dataset_ARIMA_Univariat.csv', header=0, index_col=0)\n",
        "X = series.values\n",
        "size = len(X) - 7\n",
        "train, test = X[0:size], X[size:]\n",
        "history = [x for x in train]\n",
        "predictions = list()\n",
        "for t in range(len(test)):\n",
        "\tmodel = ARIMA(history, order=(1,1,1))\n",
        "\tmodel_fit = model.fit()\n",
        "\tar_coef, ma_coef = model_fit.arparams, model_fit.maparams\n",
        "\tresid = model_fit.resid\n",
        "\tdiff = difference(history)\n",
        "\tyhat = history[-1] + predict(ar_coef, diff) + predict(ma_coef, resid)\n",
        "\tpredictions.append(yhat)\n",
        "\tobs = test[t]\n",
        "\thistory.append(obs)\n",
        "\tprint('>predicted=%.3f, expected=%.3f' % (yhat, obs))\n",
        "\n",
        "\n",
        "mae = mean_absolute_error(test, predictions)\n",
        "mape = mean_absolute_percentage_error(test, predictions)\n",
        "rmse = sqrt(mean_squared_error(test, predictions))\n",
        "print('Test MAE: %.3f' % mae)\n",
        "print('Test MAPE: %.3f' % mape)\n",
        "print('Test RMSE: %.3f' % rmse)"
      ],
      "execution_count": 4,
      "outputs": [
        {
          "output_type": "stream",
          "name": "stdout",
          "text": [
            ">predicted=0.215, expected=0.213\n",
            ">predicted=0.198, expected=0.201\n",
            ">predicted=0.189, expected=0.189\n",
            ">predicted=0.178, expected=0.179\n"
          ]
        },
        {
          "output_type": "stream",
          "name": "stderr",
          "text": [
            "/usr/local/lib/python3.7/dist-packages/statsmodels/base/model.py:568: ConvergenceWarning: Maximum Likelihood optimization failed to converge. Check mle_retvals\n",
            "  \"Check mle_retvals\", ConvergenceWarning)\n"
          ]
        },
        {
          "output_type": "stream",
          "name": "stdout",
          "text": [
            ">predicted=0.169, expected=0.170\n",
            ">predicted=0.161, expected=0.159\n",
            ">predicted=0.149, expected=0.150\n",
            "Test MAE: 0.001\n",
            "Test MAPE: 0.008\n",
            "Test RMSE: 0.002\n"
          ]
        }
      ]
    },
    {
      "cell_type": "code",
      "metadata": {
        "id": "mTgMG78Hk2na"
      },
      "source": [
        ""
      ],
      "execution_count": null,
      "outputs": []
    }
  ]
}