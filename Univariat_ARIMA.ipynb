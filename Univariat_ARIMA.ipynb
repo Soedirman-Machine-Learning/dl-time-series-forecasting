{
  "nbformat": 4,
  "nbformat_minor": 0,
  "metadata": {
    "colab": {
      "name": "ARIMA_Univariat.ipynb",
      "provenance": [],
      "collapsed_sections": [],
      "include_colab_link": true
    },
    "kernelspec": {
      "display_name": "Python 3",
      "name": "python3"
    },
    "language_info": {
      "name": "python"
    }
  },
  "cells": [
    {
      "cell_type": "markdown",
      "metadata": {
        "id": "view-in-github",
        "colab_type": "text"
      },
      "source": [
        "<a href=\"https://colab.research.google.com/github/Soedirman-Machine-Learning/dl-time-series-forecasting/blob/main/Univariat_ARIMA.ipynb\" target=\"_parent\"><img src=\"https://colab.research.google.com/assets/colab-badge.svg\" alt=\"Open In Colab\"/></a>"
      ]
    },
    {
      "cell_type": "code",
      "metadata": {
        "colab": {
          "base_uri": "https://localhost:8080/"
        },
        "id": "2CKzr4rqkvCS",
        "outputId": "0e361a7b-f42f-4914-ce56-5d8e8b49bcc7"
      },
      "source": [
        "!pip install \"statsmodels==0.11.1\"\n",
        "!pip install \"scikit-learn==0.24\""
      ],
      "execution_count": 1,
      "outputs": [
        {
          "output_type": "stream",
          "name": "stdout",
          "text": [
            "Collecting statsmodels==0.11.1\n",
            "  Downloading statsmodels-0.11.1-cp37-cp37m-manylinux1_x86_64.whl (8.7 MB)\n",
            "\u001b[K     |████████████████████████████████| 8.7 MB 6.4 MB/s \n",
            "\u001b[?25hRequirement already satisfied: numpy>=1.14 in /usr/local/lib/python3.7/dist-packages (from statsmodels==0.11.1) (1.19.5)\n",
            "Requirement already satisfied: scipy>=1.0 in /usr/local/lib/python3.7/dist-packages (from statsmodels==0.11.1) (1.4.1)\n",
            "Requirement already satisfied: pandas>=0.21 in /usr/local/lib/python3.7/dist-packages (from statsmodels==0.11.1) (1.1.5)\n",
            "Requirement already satisfied: patsy>=0.5 in /usr/local/lib/python3.7/dist-packages (from statsmodels==0.11.1) (0.5.2)\n",
            "Requirement already satisfied: python-dateutil>=2.7.3 in /usr/local/lib/python3.7/dist-packages (from pandas>=0.21->statsmodels==0.11.1) (2.8.2)\n",
            "Requirement already satisfied: pytz>=2017.2 in /usr/local/lib/python3.7/dist-packages (from pandas>=0.21->statsmodels==0.11.1) (2018.9)\n",
            "Requirement already satisfied: six in /usr/local/lib/python3.7/dist-packages (from patsy>=0.5->statsmodels==0.11.1) (1.15.0)\n",
            "Installing collected packages: statsmodels\n",
            "  Attempting uninstall: statsmodels\n",
            "    Found existing installation: statsmodels 0.10.2\n",
            "    Uninstalling statsmodels-0.10.2:\n",
            "      Successfully uninstalled statsmodels-0.10.2\n",
            "Successfully installed statsmodels-0.11.1\n",
            "Collecting scikit-learn==0.24\n",
            "  Downloading scikit_learn-0.24.0-cp37-cp37m-manylinux2010_x86_64.whl (22.3 MB)\n",
            "\u001b[K     |████████████████████████████████| 22.3 MB 4.3 MB/s \n",
            "\u001b[?25hRequirement already satisfied: joblib>=0.11 in /usr/local/lib/python3.7/dist-packages (from scikit-learn==0.24) (1.0.1)\n",
            "Requirement already satisfied: numpy>=1.13.3 in /usr/local/lib/python3.7/dist-packages (from scikit-learn==0.24) (1.19.5)\n",
            "Collecting threadpoolctl>=2.0.0\n",
            "  Downloading threadpoolctl-3.0.0-py3-none-any.whl (14 kB)\n",
            "Requirement already satisfied: scipy>=0.19.1 in /usr/local/lib/python3.7/dist-packages (from scikit-learn==0.24) (1.4.1)\n",
            "Installing collected packages: threadpoolctl, scikit-learn\n",
            "  Attempting uninstall: scikit-learn\n",
            "    Found existing installation: scikit-learn 0.22.2.post1\n",
            "    Uninstalling scikit-learn-0.22.2.post1:\n",
            "      Successfully uninstalled scikit-learn-0.22.2.post1\n",
            "Successfully installed scikit-learn-0.24.0 threadpoolctl-3.0.0\n"
          ]
        }
      ]
    },
    {
      "cell_type": "code",
      "metadata": {
        "colab": {
          "base_uri": "https://localhost:8080/"
        },
        "id": "FZN1ed_XaXOU",
        "outputId": "a45e6012-3fc5-4020-ef58-4c37a6ce025d"
      },
      "source": [
        "! git clone https://github.com/Soedirman-Machine-Learning/dl-time-series-forecasting"
      ],
      "execution_count": null,
      "outputs": [
        {
          "output_type": "stream",
          "name": "stdout",
          "text": [
            "Cloning into 'dl-time-series-forecasting'...\n",
            "remote: Enumerating objects: 36, done.\u001b[K\n",
            "remote: Counting objects: 100% (36/36), done.\u001b[K\n",
            "remote: Compressing objects: 100% (34/34), done.\u001b[K\n",
            "remote: Total 36 (delta 14), reused 0 (delta 0), pack-reused 0\u001b[K\n",
            "Unpacking objects: 100% (36/36), done.\n"
          ]
        }
      ]
    },
    {
      "cell_type": "code",
      "metadata": {
        "colab": {
          "base_uri": "https://localhost:8080/"
        },
        "id": "NC-cuGOloEDX",
        "outputId": "bfa4f8c2-617c-45dc-974d-0d04e9d9ac42"
      },
      "source": [
        "from pandas import read_csv\n",
        "from matplotlib import pyplot\n",
        "from statsmodels.tsa.arima.model import ARIMA\n",
        "from sklearn.metrics import mean_squared_error\n",
        "from sklearn.metrics import mean_absolute_error\n",
        "from sklearn.metrics import mean_absolute_percentage_error\n",
        "\n",
        "\n",
        "from math import sqrt\n",
        "import numpy\n",
        "\n",
        "def predict(coef, history):\n",
        "\tyhat = 0.0\n",
        "\tfor i in range(1, len(coef)+1):\n",
        "\t\tyhat += coef[i-1] * history[-i]\n",
        "\treturn yhat\n",
        "\n",
        "def difference(dataset):\n",
        "\tdiff = list()\n",
        "\tfor i in range(1, len(dataset)):\n",
        "\t\tvalue = dataset[i] - dataset[i - 1]\n",
        "\t\tdiff.append(value)\n",
        "\treturn numpy.array(diff)\n",
        "\n",
        "series = read_csv('https://raw.githubusercontent.com/Soedirman-Machine-Learning/dl-time-series-forecasting/main/dataset_ARIMA_Univariat.csv', header=0, index_col=0)\n",
        "X = series.values\n",
        "size = len(X) - 200\n",
        "train, test = X[0:size], X[size:]\n",
        "history = [x for x in train]\n",
        "predictions = list()\n",
        "for t in range(len(test)):\n",
        "\tmodel = ARIMA(history, order=(1,1,1))\n",
        "\tmodel_fit = model.fit()\n",
        "\tar_coef, ma_coef = model_fit.arparams, model_fit.maparams\n",
        "\tresid = model_fit.resid\n",
        "\tdiff = difference(history)\n",
        "\tyhat = history[-1] + predict(ar_coef, diff) + predict(ma_coef, resid)\n",
        "\tpredictions.append(yhat)\n",
        "\tobs = test[t]\n",
        "\thistory.append(obs)\n",
        "\tprint('>predicted=%.3f, expected=%.3f' % (yhat, obs))\n",
        "\n",
        "\n",
        "mae = mean_absolute_error(test, predictions)\n",
        "mape = mean_absolute_percentage_error(test, predictions)\n",
        "rmse = sqrt(mean_squared_error(test, predictions))\n",
        "print('Test MAE: %.3f' % mae)\n",
        "print('Test MAPE: %.3f' % mape)\n",
        "print('Test RMSE: %.3f' % rmse)"
      ],
      "execution_count": 2,
      "outputs": [
        {
          "output_type": "stream",
          "name": "stdout",
          "text": [
            ">predicted=0.391, expected=0.396\n"
          ]
        },
        {
          "output_type": "stream",
          "name": "stderr",
          "text": [
            "/usr/local/lib/python3.7/dist-packages/statsmodels/base/model.py:568: ConvergenceWarning: Maximum Likelihood optimization failed to converge. Check mle_retvals\n",
            "  \"Check mle_retvals\", ConvergenceWarning)\n"
          ]
        },
        {
          "output_type": "stream",
          "name": "stdout",
          "text": [
            ">predicted=0.431, expected=0.430\n",
            ">predicted=0.462, expected=0.458\n",
            ">predicted=0.484, expected=0.481\n",
            ">predicted=0.504, expected=0.497\n",
            ">predicted=0.512, expected=0.515\n",
            ">predicted=0.531, expected=0.528\n"
          ]
        },
        {
          "output_type": "stream",
          "name": "stderr",
          "text": [
            "/usr/local/lib/python3.7/dist-packages/statsmodels/base/model.py:568: ConvergenceWarning: Maximum Likelihood optimization failed to converge. Check mle_retvals\n",
            "  \"Check mle_retvals\", ConvergenceWarning)\n"
          ]
        },
        {
          "output_type": "stream",
          "name": "stdout",
          "text": [
            ">predicted=0.541, expected=0.532\n",
            ">predicted=0.536, expected=0.536\n",
            ">predicted=0.540, expected=0.534\n",
            ">predicted=0.532, expected=0.537\n"
          ]
        },
        {
          "output_type": "stream",
          "name": "stderr",
          "text": [
            "/usr/local/lib/python3.7/dist-packages/statsmodels/base/model.py:568: ConvergenceWarning: Maximum Likelihood optimization failed to converge. Check mle_retvals\n",
            "  \"Check mle_retvals\", ConvergenceWarning)\n"
          ]
        },
        {
          "output_type": "stream",
          "name": "stdout",
          "text": [
            ">predicted=0.540, expected=0.536\n",
            ">predicted=0.535, expected=0.535\n",
            ">predicted=0.534, expected=0.534\n",
            ">predicted=0.532, expected=0.538\n",
            ">predicted=0.542, expected=0.538\n",
            ">predicted=0.539, expected=0.548\n",
            ">predicted=0.557, expected=0.559\n",
            ">predicted=0.570, expected=0.569\n",
            ">predicted=0.579, expected=0.582\n",
            ">predicted=0.593, expected=0.592\n",
            ">predicted=0.602, expected=0.595\n",
            ">predicted=0.599, expected=0.597\n",
            ">predicted=0.600, expected=0.596\n",
            ">predicted=0.595, expected=0.581\n",
            ">predicted=0.568, expected=0.571\n",
            ">predicted=0.561, expected=0.546\n",
            ">predicted=0.524, expected=0.519\n",
            ">predicted=0.494, expected=0.498\n",
            ">predicted=0.477, expected=0.465\n",
            ">predicted=0.436, expected=0.444\n",
            ">predicted=0.424, expected=0.413\n",
            ">predicted=0.384, expected=0.386\n"
          ]
        },
        {
          "output_type": "stream",
          "name": "stderr",
          "text": [
            "/usr/local/lib/python3.7/dist-packages/statsmodels/base/model.py:568: ConvergenceWarning: Maximum Likelihood optimization failed to converge. Check mle_retvals\n",
            "  \"Check mle_retvals\", ConvergenceWarning)\n"
          ]
        },
        {
          "output_type": "stream",
          "name": "stdout",
          "text": [
            ">predicted=0.361, expected=0.355\n",
            ">predicted=0.326, expected=0.329\n",
            ">predicted=0.304, expected=0.309\n",
            ">predicted=0.289, expected=0.279\n",
            ">predicted=0.251, expected=0.258\n",
            ">predicted=0.237, expected=0.232\n",
            ">predicted=0.208, expected=0.208\n",
            ">predicted=0.186, expected=0.194\n",
            ">predicted=0.179, expected=0.179\n",
            ">predicted=0.165, expected=0.165\n",
            ">predicted=0.151, expected=0.156\n",
            ">predicted=0.147, expected=0.151\n",
            ">predicted=0.146, expected=0.146\n",
            ">predicted=0.141, expected=0.141\n",
            ">predicted=0.137, expected=0.139\n",
            ">predicted=0.136, expected=0.136\n",
            ">predicted=0.133, expected=0.132\n",
            ">predicted=0.129, expected=0.123\n",
            ">predicted=0.115, expected=0.123\n",
            ">predicted=0.122, expected=0.120\n",
            ">predicted=0.117, expected=0.116\n",
            ">predicted=0.113, expected=0.111\n"
          ]
        },
        {
          "output_type": "stream",
          "name": "stderr",
          "text": [
            "/usr/local/lib/python3.7/dist-packages/statsmodels/base/model.py:568: ConvergenceWarning: Maximum Likelihood optimization failed to converge. Check mle_retvals\n",
            "  \"Check mle_retvals\", ConvergenceWarning)\n"
          ]
        },
        {
          "output_type": "stream",
          "name": "stdout",
          "text": [
            ">predicted=0.106, expected=0.105\n",
            ">predicted=0.100, expected=0.100\n"
          ]
        },
        {
          "output_type": "stream",
          "name": "stderr",
          "text": [
            "/usr/local/lib/python3.7/dist-packages/statsmodels/base/model.py:568: ConvergenceWarning: Maximum Likelihood optimization failed to converge. Check mle_retvals\n",
            "  \"Check mle_retvals\", ConvergenceWarning)\n"
          ]
        },
        {
          "output_type": "stream",
          "name": "stdout",
          "text": [
            ">predicted=0.095, expected=0.090\n",
            ">predicted=0.081, expected=0.088\n",
            ">predicted=0.086, expected=0.086\n",
            ">predicted=0.085, expected=0.080\n",
            ">predicted=0.074, expected=0.077\n",
            ">predicted=0.075, expected=0.075\n"
          ]
        },
        {
          "output_type": "stream",
          "name": "stderr",
          "text": [
            "/usr/local/lib/python3.7/dist-packages/statsmodels/base/model.py:568: ConvergenceWarning: Maximum Likelihood optimization failed to converge. Check mle_retvals\n",
            "  \"Check mle_retvals\", ConvergenceWarning)\n"
          ]
        },
        {
          "output_type": "stream",
          "name": "stdout",
          "text": [
            ">predicted=0.073, expected=0.073\n",
            ">predicted=0.071, expected=0.066\n",
            ">predicted=0.061, expected=0.064\n",
            ">predicted=0.061, expected=0.059\n",
            ">predicted=0.055, expected=0.058\n",
            ">predicted=0.057, expected=0.057\n",
            ">predicted=0.056, expected=0.054\n",
            ">predicted=0.051, expected=0.050\n",
            ">predicted=0.047, expected=0.045\n",
            ">predicted=0.040, expected=0.040\n",
            ">predicted=0.036, expected=0.038\n",
            ">predicted=0.036, expected=0.035\n",
            ">predicted=0.032, expected=0.030\n",
            ">predicted=0.026, expected=0.026\n",
            ">predicted=0.021, expected=0.020\n",
            ">predicted=0.015, expected=0.017\n"
          ]
        },
        {
          "output_type": "stream",
          "name": "stderr",
          "text": [
            "/usr/local/lib/python3.7/dist-packages/statsmodels/base/model.py:568: ConvergenceWarning: Maximum Likelihood optimization failed to converge. Check mle_retvals\n",
            "  \"Check mle_retvals\", ConvergenceWarning)\n"
          ]
        },
        {
          "output_type": "stream",
          "name": "stdout",
          "text": [
            ">predicted=0.013, expected=0.012\n",
            ">predicted=0.008, expected=0.008\n"
          ]
        },
        {
          "output_type": "stream",
          "name": "stderr",
          "text": [
            "/usr/local/lib/python3.7/dist-packages/statsmodels/base/model.py:568: ConvergenceWarning: Maximum Likelihood optimization failed to converge. Check mle_retvals\n",
            "  \"Check mle_retvals\", ConvergenceWarning)\n"
          ]
        },
        {
          "output_type": "stream",
          "name": "stdout",
          "text": [
            ">predicted=0.004, expected=0.005\n",
            ">predicted=0.003, expected=0.006\n",
            ">predicted=0.005, expected=0.001\n"
          ]
        },
        {
          "output_type": "stream",
          "name": "stderr",
          "text": [
            "/usr/local/lib/python3.7/dist-packages/statsmodels/base/model.py:568: ConvergenceWarning: Maximum Likelihood optimization failed to converge. Check mle_retvals\n",
            "  \"Check mle_retvals\", ConvergenceWarning)\n"
          ]
        },
        {
          "output_type": "stream",
          "name": "stdout",
          "text": [
            ">predicted=-0.002, expected=0.001\n",
            ">predicted=0.001, expected=0.000\n",
            ">predicted=-0.001, expected=0.008\n",
            ">predicted=0.014, expected=0.010\n",
            ">predicted=0.012, expected=0.015\n",
            ">predicted=0.019, expected=0.013\n",
            ">predicted=0.013, expected=0.016\n",
            ">predicted=0.018, expected=0.024\n"
          ]
        },
        {
          "output_type": "stream",
          "name": "stderr",
          "text": [
            "/usr/local/lib/python3.7/dist-packages/statsmodels/base/model.py:568: ConvergenceWarning: Maximum Likelihood optimization failed to converge. Check mle_retvals\n",
            "  \"Check mle_retvals\", ConvergenceWarning)\n"
          ]
        },
        {
          "output_type": "stream",
          "name": "stdout",
          "text": [
            ">predicted=0.030, expected=0.028\n",
            ">predicted=0.032, expected=0.034\n"
          ]
        },
        {
          "output_type": "stream",
          "name": "stderr",
          "text": [
            "/usr/local/lib/python3.7/dist-packages/statsmodels/base/model.py:568: ConvergenceWarning: Maximum Likelihood optimization failed to converge. Check mle_retvals\n",
            "  \"Check mle_retvals\", ConvergenceWarning)\n"
          ]
        },
        {
          "output_type": "stream",
          "name": "stdout",
          "text": [
            ">predicted=0.039, expected=0.033\n",
            ">predicted=0.032, expected=0.037\n",
            ">predicted=0.041, expected=0.038\n",
            ">predicted=0.039, expected=0.049\n",
            ">predicted=0.059, expected=0.052\n"
          ]
        },
        {
          "output_type": "stream",
          "name": "stderr",
          "text": [
            "/usr/local/lib/python3.7/dist-packages/statsmodels/base/model.py:568: ConvergenceWarning: Maximum Likelihood optimization failed to converge. Check mle_retvals\n",
            "  \"Check mle_retvals\", ConvergenceWarning)\n"
          ]
        },
        {
          "output_type": "stream",
          "name": "stdout",
          "text": [
            ">predicted=0.055, expected=0.052\n"
          ]
        },
        {
          "output_type": "stream",
          "name": "stderr",
          "text": [
            "/usr/local/lib/python3.7/dist-packages/statsmodels/base/model.py:568: ConvergenceWarning: Maximum Likelihood optimization failed to converge. Check mle_retvals\n",
            "  \"Check mle_retvals\", ConvergenceWarning)\n"
          ]
        },
        {
          "output_type": "stream",
          "name": "stdout",
          "text": [
            ">predicted=0.052, expected=0.057\n",
            ">predicted=0.062, expected=0.059\n",
            ">predicted=0.062, expected=0.060\n",
            ">predicted=0.062, expected=0.059\n",
            ">predicted=0.058, expected=0.059\n",
            ">predicted=0.059, expected=0.059\n",
            ">predicted=0.059, expected=0.057\n",
            ">predicted=0.056, expected=0.055\n"
          ]
        },
        {
          "output_type": "stream",
          "name": "stderr",
          "text": [
            "/usr/local/lib/python3.7/dist-packages/statsmodels/base/model.py:568: ConvergenceWarning: Maximum Likelihood optimization failed to converge. Check mle_retvals\n",
            "  \"Check mle_retvals\", ConvergenceWarning)\n"
          ]
        },
        {
          "output_type": "stream",
          "name": "stdout",
          "text": [
            ">predicted=0.053, expected=0.047\n",
            ">predicted=0.040, expected=0.053\n",
            ">predicted=0.057, expected=0.044\n",
            ">predicted=0.037, expected=0.046\n",
            ">predicted=0.047, expected=0.044\n",
            ">predicted=0.042, expected=0.045\n",
            ">predicted=0.046, expected=0.044\n"
          ]
        },
        {
          "output_type": "stream",
          "name": "stderr",
          "text": [
            "/usr/local/lib/python3.7/dist-packages/statsmodels/base/model.py:568: ConvergenceWarning: Maximum Likelihood optimization failed to converge. Check mle_retvals\n",
            "  \"Check mle_retvals\", ConvergenceWarning)\n"
          ]
        },
        {
          "output_type": "stream",
          "name": "stdout",
          "text": [
            ">predicted=0.043, expected=0.047\n",
            ">predicted=0.050, expected=0.049\n"
          ]
        },
        {
          "output_type": "stream",
          "name": "stderr",
          "text": [
            "/usr/local/lib/python3.7/dist-packages/statsmodels/base/model.py:568: ConvergenceWarning: Maximum Likelihood optimization failed to converge. Check mle_retvals\n",
            "  \"Check mle_retvals\", ConvergenceWarning)\n"
          ]
        },
        {
          "output_type": "stream",
          "name": "stdout",
          "text": [
            ">predicted=0.051, expected=0.054\n",
            ">predicted=0.057, expected=0.053\n",
            ">predicted=0.052, expected=0.054\n",
            ">predicted=0.055, expected=0.050\n",
            ">predicted=0.048, expected=0.056\n",
            ">predicted=0.060, expected=0.031\n",
            ">predicted=0.011, expected=0.060\n",
            ">predicted=0.081, expected=0.064\n",
            ">predicted=0.070, expected=0.068\n",
            ">predicted=0.073, expected=0.073\n",
            ">predicted=0.077, expected=0.082\n",
            ">predicted=0.089, expected=0.088\n"
          ]
        },
        {
          "output_type": "stream",
          "name": "stderr",
          "text": [
            "/usr/local/lib/python3.7/dist-packages/statsmodels/base/model.py:568: ConvergenceWarning: Maximum Likelihood optimization failed to converge. Check mle_retvals\n",
            "  \"Check mle_retvals\", ConvergenceWarning)\n"
          ]
        },
        {
          "output_type": "stream",
          "name": "stdout",
          "text": [
            ">predicted=0.095, expected=0.100\n",
            ">predicted=0.110, expected=0.111\n",
            ">predicted=0.121, expected=0.123\n"
          ]
        },
        {
          "output_type": "stream",
          "name": "stderr",
          "text": [
            "/usr/local/lib/python3.7/dist-packages/statsmodels/base/model.py:568: ConvergenceWarning: Maximum Likelihood optimization failed to converge. Check mle_retvals\n",
            "  \"Check mle_retvals\", ConvergenceWarning)\n"
          ]
        },
        {
          "output_type": "stream",
          "name": "stdout",
          "text": [
            ">predicted=0.135, expected=0.137\n",
            ">predicted=0.149, expected=0.156\n",
            ">predicted=0.173, expected=0.167\n",
            ">predicted=0.178, expected=0.175\n",
            ">predicted=0.183, expected=0.178\n",
            ">predicted=0.182, expected=0.172\n",
            ">predicted=0.167, expected=0.153\n",
            ">predicted=0.138, expected=0.148\n"
          ]
        },
        {
          "output_type": "stream",
          "name": "stderr",
          "text": [
            "/usr/local/lib/python3.7/dist-packages/statsmodels/base/model.py:568: ConvergenceWarning: Maximum Likelihood optimization failed to converge. Check mle_retvals\n",
            "  \"Check mle_retvals\", ConvergenceWarning)\n"
          ]
        },
        {
          "output_type": "stream",
          "name": "stdout",
          "text": [
            ">predicted=0.141, expected=0.123\n",
            ">predicted=0.102, expected=0.101\n",
            ">predicted=0.080, expected=0.083\n",
            ">predicted=0.065, expected=0.065\n",
            ">predicted=0.048, expected=0.048\n",
            ">predicted=0.032, expected=0.037\n",
            ">predicted=0.025, expected=0.024\n",
            ">predicted=0.012, expected=0.016\n",
            ">predicted=0.008, expected=0.012\n",
            ">predicted=0.007, expected=0.007\n"
          ]
        },
        {
          "output_type": "stream",
          "name": "stderr",
          "text": [
            "/usr/local/lib/python3.7/dist-packages/statsmodels/base/model.py:568: ConvergenceWarning: Maximum Likelihood optimization failed to converge. Check mle_retvals\n",
            "  \"Check mle_retvals\", ConvergenceWarning)\n"
          ]
        },
        {
          "output_type": "stream",
          "name": "stdout",
          "text": [
            ">predicted=0.003, expected=0.012\n",
            ">predicted=0.015, expected=0.012\n",
            ">predicted=0.012, expected=0.012\n",
            ">predicted=0.012, expected=0.019\n",
            ">predicted=0.024, expected=0.029\n",
            ">predicted=0.038, expected=0.034\n",
            ">predicted=0.040, expected=0.048\n",
            ">predicted=0.059, expected=0.060\n"
          ]
        },
        {
          "output_type": "stream",
          "name": "stderr",
          "text": [
            "/usr/local/lib/python3.7/dist-packages/statsmodels/base/model.py:568: ConvergenceWarning: Maximum Likelihood optimization failed to converge. Check mle_retvals\n",
            "  \"Check mle_retvals\", ConvergenceWarning)\n"
          ]
        },
        {
          "output_type": "stream",
          "name": "stdout",
          "text": [
            ">predicted=0.072, expected=0.066\n",
            ">predicted=0.072, expected=0.075\n",
            ">predicted=0.083, expected=0.083\n",
            ">predicted=0.091, expected=0.090\n",
            ">predicted=0.097, expected=0.097\n",
            ">predicted=0.103, expected=0.101\n",
            ">predicted=0.105, expected=0.105\n",
            ">predicted=0.108, expected=0.108\n",
            ">predicted=0.111, expected=0.111\n",
            ">predicted=0.114, expected=0.114\n",
            ">predicted=0.117, expected=0.115\n"
          ]
        },
        {
          "output_type": "stream",
          "name": "stderr",
          "text": [
            "/usr/local/lib/python3.7/dist-packages/statsmodels/base/model.py:568: ConvergenceWarning: Maximum Likelihood optimization failed to converge. Check mle_retvals\n",
            "  \"Check mle_retvals\", ConvergenceWarning)\n"
          ]
        },
        {
          "output_type": "stream",
          "name": "stdout",
          "text": [
            ">predicted=0.116, expected=0.112\n",
            ">predicted=0.111, expected=0.111\n",
            ">predicted=0.110, expected=0.107\n",
            ">predicted=0.103, expected=0.098\n",
            ">predicted=0.090, expected=0.093\n",
            ">predicted=0.088, expected=0.093\n",
            ">predicted=0.093, expected=0.104\n",
            ">predicted=0.112, expected=0.123\n",
            ">predicted=0.139, expected=0.147\n",
            ">predicted=0.169, expected=0.172\n",
            ">predicted=0.195, expected=0.195\n",
            ">predicted=0.217, expected=0.220\n",
            ">predicted=0.244, expected=0.242\n"
          ]
        },
        {
          "output_type": "stream",
          "name": "stderr",
          "text": [
            "/usr/local/lib/python3.7/dist-packages/statsmodels/base/model.py:568: ConvergenceWarning: Maximum Likelihood optimization failed to converge. Check mle_retvals\n",
            "  \"Check mle_retvals\", ConvergenceWarning)\n"
          ]
        },
        {
          "output_type": "stream",
          "name": "stdout",
          "text": [
            ">predicted=0.262, expected=0.263\n",
            ">predicted=0.284, expected=0.280\n",
            ">predicted=0.297, expected=0.290\n",
            ">predicted=0.301, expected=0.295\n",
            ">predicted=0.301, expected=0.295\n",
            ">predicted=0.296, expected=0.288\n",
            ">predicted=0.282, expected=0.277\n",
            ">predicted=0.268, expected=0.268\n",
            ">predicted=0.259, expected=0.257\n",
            ">predicted=0.247, expected=0.244\n",
            ">predicted=0.232, expected=0.229\n",
            ">predicted=0.215, expected=0.213\n",
            ">predicted=0.198, expected=0.201\n",
            ">predicted=0.189, expected=0.189\n",
            ">predicted=0.178, expected=0.179\n"
          ]
        },
        {
          "output_type": "stream",
          "name": "stderr",
          "text": [
            "/usr/local/lib/python3.7/dist-packages/statsmodels/base/model.py:568: ConvergenceWarning: Maximum Likelihood optimization failed to converge. Check mle_retvals\n",
            "  \"Check mle_retvals\", ConvergenceWarning)\n"
          ]
        },
        {
          "output_type": "stream",
          "name": "stdout",
          "text": [
            ">predicted=0.169, expected=0.170\n",
            ">predicted=0.161, expected=0.159\n",
            ">predicted=0.149, expected=0.150\n",
            "Test MAE: 0.004\n",
            "Test MAPE: 16759755523.985\n",
            "Test RMSE: 0.006\n"
          ]
        }
      ]
    },
    {
      "cell_type": "code",
      "metadata": {
        "id": "mTgMG78Hk2na"
      },
      "source": [
        "from matplotlib import pyplot\n",
        "import matplotlib.pyplot as plt"
      ],
      "execution_count": 3,
      "outputs": []
    },
    {
      "cell_type": "code",
      "metadata": {
        "id": "1g7Pr4Kj5lGK",
        "colab": {
          "base_uri": "https://localhost:8080/"
        },
        "outputId": "77974848-bab4-406c-9565-ea7766dc27dc"
      },
      "source": [
        "import numpy as np\n",
        "import pandas as pd\n",
        "d_p= pd.DataFrame(predictions, columns = ['y'])\n",
        "d_t= pd.DataFrame(test, columns = ['y'])\n",
        "print(d_p)\n",
        "print(type(d_p))"
      ],
      "execution_count": 4,
      "outputs": [
        {
          "output_type": "stream",
          "name": "stdout",
          "text": [
            "            y\n",
            "0    0.391318\n",
            "1    0.430805\n",
            "2    0.461613\n",
            "3    0.484352\n",
            "4    0.504107\n",
            "..        ...\n",
            "195  0.189103\n",
            "196  0.177873\n",
            "197  0.169400\n",
            "198  0.160963\n",
            "199  0.149208\n",
            "\n",
            "[200 rows x 1 columns]\n",
            "<class 'pandas.core.frame.DataFrame'>\n"
          ]
        }
      ]
    },
    {
      "cell_type": "code",
      "metadata": {
        "id": "ai20ttDC73-l",
        "colab": {
          "base_uri": "https://localhost:8080/",
          "height": 501
        },
        "outputId": "78383946-45c4-4740-a71d-34200b8686c8"
      },
      "source": [
        "plt.figure(figsize=(20,8))\n",
        "pyplot.plot(d_t, color='blue', label =\"predictions\")\n",
        "pyplot.plot(d_p, color='red',  label = \"actual\")\n",
        "plt.legend(fontsize=15)\n",
        "plt.title('Nilai y', fontsize=15)\n",
        "pyplot.show()"
      ],
      "execution_count": 5,
      "outputs": [
        {
          "output_type": "display_data",
          "data": {
            "image/png": "[encoded data removed]",
            "text/plain": [
              "<Figure size 1440x576 with 1 Axes>"
            ]
          },
          "metadata": {
            "needs_background": "light"
          }
        }
      ]
    },
    {
      "cell_type": "code",
      "metadata": {
        "id": "KaN3l7D29W1T",
        "colab": {
          "base_uri": "https://localhost:8080/"
        },
        "outputId": "b8536da0-d627-45bc-d650-3da590519f00"
      },
      "source": [
        "mae = mean_absolute_error(test, predictions)\n",
        "mape = mean_absolute_percentage_error(test, predictions)\n",
        "rmse = sqrt(mean_squared_error(test, predictions))\n",
        "print('Test MAE: %.3f' % mae)\n",
        "print('Test MAPE: %.3f' % mape)\n",
        "print('Test RMSE: %.3f' % rmse)"
      ],
      "execution_count": null,
      "outputs": [
        {
          "output_type": "stream",
          "name": "stdout",
          "text": [
            "Test MAE: 0.004\n",
            "Test MAPE: 14024900020.074\n",
            "Test RMSE: 0.006\n"
          ]
        }
      ]
    }
  ]
}